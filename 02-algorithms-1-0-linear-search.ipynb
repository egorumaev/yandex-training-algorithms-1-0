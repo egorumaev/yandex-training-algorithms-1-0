{
  "nbformat": 4,
  "nbformat_minor": 0,
  "metadata": {
    "colab": {
      "provenance": []
    },
    "kernelspec": {
      "name": "python3",
      "display_name": "Python 3"
    },
    "language_info": {
      "name": "python"
    }
  },
  "cells": [
    {
      "cell_type": "markdown",
      "source": [
        "# **<font color='crimson'>«Тренировки по алгоритмам 1.0»</font>**\n",
        "\n",
        "---\n"
      ],
      "metadata": {
        "id": "IB8kfKzgdQrq"
      }
    },
    {
      "cell_type": "markdown",
      "source": [
        "# **<font color='green'>ТЕМА 2: Линейный поиск</font>**\n",
        "\n",
        "---"
      ],
      "metadata": {
        "id": "RialrMTmdXrA"
      }
    },
    {
      "cell_type": "markdown",
      "source": [
        "## **Задача A. Возрастает ли список?**\n",
        "\n",
        "---\n",
        "\n"
      ],
      "metadata": {
        "id": "1kHqdCzwS_hJ"
      }
    },
    {
      "cell_type": "markdown",
      "source": [
        "Дан список. Определите, является ли он монотонно возрастающим(то есть верно ли, что каждый элемент этого списка больше предыдущего).\n",
        "\n",
        "Выведите YES, если массив монотонно возрастает и NO в противном случае."
      ],
      "metadata": {
        "id": "6TNBD7CFS_it"
      }
    },
    {
      "cell_type": "code",
      "source": [
        "# считываем исходные данные\n",
        "# для определения монотонности последовательности\n",
        "sequence = list(map(int, input().split()))\n",
        "\n",
        "def is_monotonic(sequence):\n",
        "    # последовательность из одного элемента будем считать\n",
        "    # монотонно возрастающей по умолчанию\n",
        "    if len(sequence) == 1:\n",
        "        return 'YES'\n",
        "    else:\n",
        "        for i in range(1, len(sequence)):\n",
        "            if sequence[i] < sequence[i - 1]:\n",
        "                return 'NO'\n",
        "        return 'YES'\n",
        "\n",
        "# проверим, является ли последовательность\n",
        "# монотонно возрастающей\n",
        "result = is_monotonic(sequence)\n",
        "print(result)"
      ],
      "metadata": {
        "id": "Jjf1aLD7d1fi"
      },
      "execution_count": null,
      "outputs": []
    },
    {
      "cell_type": "markdown",
      "source": [
        "## **Задача B. Определить вид последовательности**\n",
        "\n",
        "---\n"
      ],
      "metadata": {
        "id": "VJ4C68lIELRQ"
      }
    },
    {
      "cell_type": "markdown",
      "source": [
        "По последовательности чисел во входных данных определите ее вид:\n",
        "\n",
        "* **CONSTANT** – последовательность состоит из одинаковых значений\n",
        "* **ASCENDING** – последовательность является строго возрастающей\n",
        "* **WEAKLY ASCENDING** – последовательность является нестрого возрастающей\n",
        "* **DESCENDING** – последовательность является строго убывающей\n",
        "* **WEAKLY DESCENDING** – последовательность является нестрого убывающей\n",
        "* **RANDOM** – последовательность не принадлежит ни к одному из вышеупомянутых типов\n"
      ],
      "metadata": {
        "id": "kAOQWA18FslH"
      }
    },
    {
      "cell_type": "markdown",
      "source": [
        "**Формат ввода**\n",
        "\n",
        "По одному на строке поступают числа последовательности ai, |ai| ≤ 10^9.\n",
        "\n",
        "Признаком окончания последовательности является число -2× 10^9. Оно в последовательность не входит.\n",
        "\n",
        "**Формат вывода**\n",
        "\n",
        "В единственной строке выведите тип последовательности."
      ],
      "metadata": {
        "id": "J8SBIvozFs5Y"
      }
    },
    {
      "cell_type": "code",
      "source": [
        "# считываем последовательность входящих чисел,\n",
        "# останавливаем считывание при появлении числа -2 * (10 ** 9)\n",
        "sequence = []\n",
        "while True:\n",
        "    number = int(input())\n",
        "    if number == -2e9:\n",
        "        break\n",
        "    sequence.append(number)\n",
        "\n",
        "# сформируем функцию, определяющую принадлежность последовательности\n",
        "# к одному из заданных типов\n",
        "def sequence_type(sequence):\n",
        "    # для каждого из возможных типов последовательности\n",
        "    # создадим соответствующий счетчик\n",
        "    count_constant = 0\n",
        "    count_ascending = 0\n",
        "    count_w_ascending = 0\n",
        "    count_descending = 0\n",
        "    count_w_descending = 0\n",
        "\n",
        "    for i in range(len(sequence) - 1):\n",
        "        # проверка на принадлежность к типу 'CONSTANT'\n",
        "        if sequence[i] == sequence[i + 1]:\n",
        "            count_constant += 1\n",
        "        # проверка на принадлежность к типу 'ASCENDING'\n",
        "        if sequence[i] < sequence[i + 1]:\n",
        "            count_ascending += 1\n",
        "        # проверка на принадлежность к типу 'WEAKLY ASCENDING'\n",
        "        if sequence[i] <= sequence[i + 1]:\n",
        "            count_w_ascending += 1\n",
        "        # проверка на принадлежность к типу 'DESCENDING'\n",
        "        if sequence[i] > sequence[i + 1]:\n",
        "            count_descending += 1\n",
        "        # проверка на принадлежность к типу 'WEAKLY DESCENDING'\n",
        "        if sequence[i] >= sequence[i + 1]:\n",
        "            count_w_descending += 1\n",
        "\n",
        "    # т.к. проводится len(sequence) - 1 сравнение пар чисел\n",
        "    # последовательности, создадим переменную для контрольной проверки,\n",
        "    # учитывающей это\n",
        "    checksum = len(sequence) - 1\n",
        "\n",
        "    if checksum == count_constant:\n",
        "        return 'CONSTANT'\n",
        "    elif checksum == count_ascending:\n",
        "        return 'ASCENDING'\n",
        "    elif checksum == count_w_ascending:\n",
        "        return 'WEAKLY ASCENDING'\n",
        "    elif checksum == count_descending:\n",
        "        return 'DESCENDING'\n",
        "    elif checksum == count_w_descending:\n",
        "        return 'WEAKLY DESCENDING'\n",
        "    return 'RANDOM'\n",
        "\n",
        "# проверим тип последовательности\n",
        "result = sequence_type(sequence)\n",
        "print(result)"
      ],
      "metadata": {
        "id": "Y5nTGmOf6gJB"
      },
      "execution_count": null,
      "outputs": []
    },
    {
      "cell_type": "code",
      "source": [
        "# сформируем функцию, определяющую принадлежность\n",
        "# последовательности к типу 'CONSTANT'\n",
        "def is_constant(sequence):\n",
        "    mean_number = sum(sequence) / len(sequence)\n",
        "    if (sequence[0] == mean_number) or (len(sequence) == 1):\n",
        "        return True\n",
        "    return False"
      ],
      "metadata": {
        "id": "lbDXmcZ0FfA7"
      },
      "execution_count": null,
      "outputs": []
    },
    {
      "cell_type": "markdown",
      "source": [
        "## **Задача С. Ближайшее число**\n",
        "\n",
        "---\n",
        "\n"
      ],
      "metadata": {
        "id": "yqWpo9vOn56X"
      }
    },
    {
      "cell_type": "markdown",
      "source": [
        "Напишите программу, которая находит в массиве элемент, самый близкий по величине к  данному числу."
      ],
      "metadata": {
        "id": "l1eQiQgFoExx"
      }
    },
    {
      "cell_type": "markdown",
      "source": [
        "**Формат ввода**\n",
        "\n",
        "В первой строке задается одно натуральное число N, не превосходящее 1000 – размер массива. Во второй строке содержатся N чисел – элементы массива (целые числа, не превосходящие по модулю 1000). В третьей строке вводится одно целое число x, не превосходящее по модулю 1000.\n",
        "\n",
        "**Формат вывода**\n",
        "\n",
        "Вывести значение элемента массива, ближайшее к x. Если таких чисел несколько, выведите любое из них."
      ],
      "metadata": {
        "id": "d-TMEqEboJK8"
      }
    },
    {
      "cell_type": "code",
      "source": [
        "# считываем исходные данные\n",
        "N = int(input())\n",
        "array = list(map(int, input().split()))\n",
        "number = int(input())\n",
        "\n",
        "# сформируем функцию для поиска числа, самого близкого\n",
        "# к входящему числу\n",
        "def close_number(array, number):\n",
        "    # зададим исходное значение возможной разницы\n",
        "    # заданного числа и числа из последовательности\n",
        "    diff = 2500\n",
        "    # объявим переменную, в которую при линейном проходе\n",
        "    # будем сохранять\n",
        "    # самого близкого 'кандидата' к заданному числу\n",
        "    nearest_number = 0\n",
        "    for i in array:\n",
        "        if abs(number - i) < diff:\n",
        "            nearest_number = i\n",
        "            diff = abs(number - i)\n",
        "    return nearest_number\n",
        "\n",
        "# выведем наиболее близкое число из последовательности\n",
        "# к заданному числу\n",
        "nearest_number = close_number(array, number)\n",
        "print(nearest_number)"
      ],
      "metadata": {
        "id": "kf7NOnNlFfGd"
      },
      "execution_count": null,
      "outputs": []
    },
    {
      "cell_type": "markdown",
      "source": [
        "## **Задача D. Больше своих соседей**\n",
        "\n",
        "---"
      ],
      "metadata": {
        "id": "8KF4qoQuQ-Gj"
      }
    },
    {
      "cell_type": "markdown",
      "source": [
        "Дан список чисел. Определите, сколько в этом списке элементов, которые больше двух своих соседей и выведите количество таких элементов."
      ],
      "metadata": {
        "id": "ARAZTz2IRFv4"
      }
    },
    {
      "cell_type": "markdown",
      "source": [
        "**Формат ввода**\n",
        "\n",
        "Вводится список чисел. Все числа списка находятся на одной строке.\n",
        "\n",
        "**Формат вывода**\n",
        "\n",
        "Выведите ответ на задачу."
      ],
      "metadata": {
        "id": "rrzmLk6BRIlC"
      }
    },
    {
      "cell_type": "code",
      "source": [
        "# считываем исходные данные\n",
        "array = list(map(int, input().split()))\n",
        "\n",
        "# сформируем функцию, вычисляющую количество элементов,\n",
        "# которые больше обоих своих соседей\n",
        "def more_your_neighbors(array):\n",
        "    # объявим счетчик элементов, которые больше\n",
        "    # обоих соседних значений последовательности\n",
        "    more_count = 0\n",
        "    # при проходе по последовательности не будут учитываться\n",
        "    # первый и второй элементы, т.к. у них есть только\n",
        "    # один 'сосед'\n",
        "    for i in range(1, len(array) - 1):\n",
        "        if (array[i] > array[i - 1]) and (array[i] > array[i + 1]):\n",
        "            more_count += 1\n",
        "    return more_count\n",
        "\n",
        "# вычислим количество элементов последовательности,\n",
        "# которые больше обоих своих 'соседей'\n",
        "result =  more_your_neighbors(array)\n",
        "print(result)"
      ],
      "metadata": {
        "id": "tT4-_aaFFfL8"
      },
      "execution_count": null,
      "outputs": []
    },
    {
      "cell_type": "markdown",
      "source": [
        "## **Задача Е. Чемпионат по метанию коровьих лепешек**\n",
        "\n",
        "---\n",
        "\n"
      ],
      "metadata": {
        "id": "kkmTSjDoXDr7"
      }
    },
    {
      "cell_type": "markdown",
      "source": [
        "Ежегодный турнир «Веселый коровяк» — по метанию коровьих лепешек на дальность — прошел 8–9 июля в селе Крылово Осинского района Пермского края.\n",
        "\n",
        "Участники соревнований кидают «снаряд» — спрессованный навоз, выбирая его из заранее заготовленной кучи. Желающих поупражняться в силе броска традиционно очень много — как мужчин, так и женщин. Каждую лепешку, которую метнули участники «Веселого коровяка», внимательно осматривали женщины в костюмах коров и тщательно замеряли расстояние.\n",
        "\n",
        "Соревнования по метанию коровьих лепешек проводятся в Пермском крае с 2009 года.\n",
        "\n",
        "К сожалению, после чемпионата потерялись записи с фамилиями участников, остались только записи о длине броска в том порядке, в котором их совершали участники.\n",
        "\n",
        "Тракторист Василий помнит три факта:\n",
        "\n",
        "1) Число метров, на которое он метнул лепешку, оканчивалось на 5\n",
        "\n",
        "2) Один из победителей чемпионата метал лепешку до Василия\n",
        "\n",
        "3) Участник, метавший лепешку сразу после Василия, метнул ее на меньшее количество метров\n",
        "\n",
        "Будем считать, что участник соревнования занял k-е место, если ровно (k − 1) участников чемпионата метнули лепешку строго дальше, чем он.\n",
        "\n",
        "Какое максимально высокое место мог занять Василий?\n"
      ],
      "metadata": {
        "id": "x393n6SLXL8D"
      }
    },
    {
      "cell_type": "markdown",
      "source": [
        "**Формат ввода**\n",
        "\n",
        "Первая строка входного файла содержит целое число n — количество участников чемпионата по метанию лепешек (3 ≤ n ≤ 10^5).\n",
        "\n",
        "Вторая строка входного файла содержит n положительных целых чисел, каждое из которых не превышает 1000, — дальность броска участников чемпионата, приведенные в том порядке, в котором происходило метание.\n",
        "\n",
        "**Формат вывода**\n",
        "\n",
        "Выведите самое высокое место, которое мог занять тракторист Василий. Если не существует ни одного участника чемпионата, который удовлетворяет, описанным выше условиям, выведите число 0."
      ],
      "metadata": {
        "id": "y4FrndvNXY0i"
      }
    },
    {
      "cell_type": "code",
      "source": [
        "# 1-й вариант решения\n",
        "\n",
        "# считываем исходные данные\n",
        "n = int(input())\n",
        "array = list(map(int, input().split()))\n",
        "\n",
        "# сформируем функцию, определяющую возможное место\n",
        "# тракториста Василия среди участников\n",
        "def find_winner_place(array):\n",
        "    # объявим счетчик, в котором укажем результат первого участника\n",
        "    score = array[0]\n",
        "    # для поиска результата Василия установим флаг\n",
        "    flag = False\n",
        "    # в соответствии с описанием Василий не может быть\n",
        "    # самым первым или самым последним участником в турнирной таблице\n",
        "    for i in range(1, len(array) - 1):\n",
        "        # запишем в переменную счет i-го игрока\n",
        "        temp_score = array[i]\n",
        "        # если счет текущего игрока оказался больше счета первого участника\n",
        "        if temp_score > score:\n",
        "            # перезаписываем результат\n",
        "            score = temp_score\n",
        "            flag = False\n",
        "        # если текущий результат игрока меньше или равен лучшему результату,\n",
        "        # проверяем игрока на соответствие условиям\n",
        "        elif (temp_score % 10 == 5) and temp_score > array[i + 1]:\n",
        "            # если True, проверяем, находили ли похожего 'Василия' ранее\n",
        "            # в первом условии проверяем, если похожего кандидата не было\n",
        "            if not flag:\n",
        "                # объявляем переменную со счетом Василия\n",
        "                vasyas_score = temp_score\n",
        "                # меняем значение флага, показывая, что нашли Василия\n",
        "                flag = True\n",
        "            # если кандидат, похожий на Василия, был найден ранее,\n",
        "            # но текущий кандидат соответствует условиям поиска и его счет\n",
        "            # больше, необходимо обновить счет Василия\n",
        "            elif temp_score > vasyas_score:\n",
        "                vasyas_score = temp_score\n",
        "\n",
        "    # если не было найдено ни одного кандидата,\n",
        "    # по описаниям похожего на Василия\n",
        "    if not flag:\n",
        "        return 0\n",
        "\n",
        "    # если кандидат, похожий по описанию на Василия,\n",
        "    # был найден, получаем его место\n",
        "    winner_place = 0\n",
        "    for i in array:\n",
        "        if i > vasyas_score:\n",
        "            winner_place += 1\n",
        "    return winner_place + 1\n",
        "\n",
        "# определим место, занятое трактористом Василием в конкурсе\n",
        "place = find_winner_place(array)\n",
        "print(place)"
      ],
      "metadata": {
        "id": "YHMyRHvdJKPS"
      },
      "execution_count": null,
      "outputs": []
    },
    {
      "cell_type": "code",
      "source": [
        "# 2-й вариант решения\n",
        "\n",
        "# считываем исходные данные\n",
        "n = int(input())\n",
        "array = list(map(int, input().split()))\n",
        "\n",
        "# найдем индексы участников, соответствующие описанию,\n",
        "# данного трактористом Василием\n",
        "def find_index(array):\n",
        "    index_list = []\n",
        "    # исходя из описания, Василий не может быть ни первым,\n",
        "    # ни последним участником соревнования\n",
        "    for i in range(1, len(array) - 1):\n",
        "        if (str(array[i])[-1] == '5') \\\n",
        "            and (array[i - 1] >= array[i]) \\\n",
        "            and (array[i + 1] < array[i]):\n",
        "            index_list.append(i)\n",
        "    return index_list\n",
        "\n",
        "# сформируем функцию, определяющую возможное место\n",
        "# тракториста Василия среди участников\n",
        "def winner_place(array):\n",
        "    # получим индексы, соответствующие возможному номеру\n",
        "    # Василия среди участников конкурса\n",
        "    index_list = find_index(array)\n",
        "    if (len(index_list) == 0) or (n < 3):\n",
        "        return 0\n",
        "    else:\n",
        "        # для учета всех вариантов мест участника\n",
        "        # возьмем максимальный подходящий индекс\n",
        "        result = min([array[i] for i in index_list])\n",
        "        winner_place = 0\n",
        "        for i in range(len(array)):\n",
        "            if array[i] >= result:\n",
        "                winner_place += 1\n",
        "            if array[i] == result:\n",
        "                winner_place -= 0.5\n",
        "        return round(winner_place)\n",
        "\n",
        "# определим место, занятое трактористом Василием в конкурсе\n",
        "place = winner_place(array)\n",
        "print(place)"
      ],
      "metadata": {
        "id": "Fk0wQydHFfQO"
      },
      "execution_count": null,
      "outputs": []
    },
    {
      "cell_type": "markdown",
      "source": [
        "## **Задача F. Симметричная последовательность**\n",
        "\n",
        "---\n"
      ],
      "metadata": {
        "id": "E8IlJu2ldrcd"
      }
    },
    {
      "cell_type": "markdown",
      "source": [
        "Последовательность чисел назовем симметричной, если она одинаково читается как слева направо, так и справа налево. Например, следующие последовательности являются симметричными:\n",
        "\n",
        "1 2 3 4 5 4 3 2 1\n",
        "\n",
        "1 2 1 2 2 1 2 1\n",
        "\n",
        "Вашей программе будет дана последовательность чисел. Требуется определить, какое минимальное количество и каких чисел надо приписать в конец этой последовательности, чтобы она стала симметричной."
      ],
      "metadata": {
        "id": "1RBWJZFbd2_N"
      }
    },
    {
      "cell_type": "markdown",
      "source": [
        "**Формат ввода**\n",
        "\n",
        "Сначала вводится число N — количество элементов исходной последовательности (1 ≤ N ≤ 100). Далее идут N чисел — элементы этой последовательности, натуральные числа от 1 до 9.\n",
        "\n",
        "**Формат вывода**\n",
        "\n",
        "Выведите сначала число M — минимальное количество элементов, которое надо дописать к последовательности, а потом M чисел (каждое — от 1 до 9) — числа, которые надо дописать к последовательности."
      ],
      "metadata": {
        "id": "bbjO097jeYoS"
      }
    },
    {
      "cell_type": "code",
      "execution_count": null,
      "metadata": {
        "id": "SI604VefdGZd"
      },
      "outputs": [],
      "source": [
        "# считываем исходные данные\n",
        "N = int(input())\n",
        "sequence = list(map(int, input().split()))\n",
        "\n",
        "# сформируем функцию, проверяющую, является ли\n",
        "# последовательность чисел симметричной\n",
        "def is_symmetriс(seq):\n",
        "    seq_2 = seq[::-1]\n",
        "    if seq == seq_2:\n",
        "        return 'symmetric'\n",
        "    return 'not_symmetric'\n",
        "\n",
        "is_symmetriс(sequence)"
      ]
    },
    {
      "cell_type": "code",
      "source": [
        "# сформируем функцию, проверяющую, является ли\n",
        "# последовательность чисел симметричной\n",
        "def is_symmetriс(seq):\n",
        "    parity_check = len(seq) % 2\n",
        "    half = len(seq) // 2\n",
        "    if parity_check != 0:\n",
        "        seq_1 = seq[:half]\n",
        "        seq_2 = seq[half+1:]\n",
        "        seq_2 = seq_2[::-1]\n",
        "        if seq_1 == seq_2:\n",
        "            return 'symmetric'\n",
        "        return 'not_symmetric'\n",
        "    else:\n",
        "        seq_1 = seq[:half]\n",
        "        seq_2 = seq_2[half:]\n",
        "        seq_2 = seq[::-1]\n",
        "        if seq_1 == seq_2:\n",
        "            return 'symmetric'\n",
        "        return 'not_symmetric'"
      ],
      "metadata": {
        "id": "rXQC4Tvb8ib3"
      },
      "execution_count": null,
      "outputs": []
    },
    {
      "cell_type": "markdown",
      "source": [
        "## **Задача G. Наибольшее произведение двух чисел**\n",
        "\n",
        "---\n",
        "\n"
      ],
      "metadata": {
        "id": "AiHo7URjIrd3"
      }
    },
    {
      "cell_type": "markdown",
      "source": [
        "Дан список, заполненный произвольными целыми числами. Найдите в этом списке два числа, произведение которых максимально. Выведите эти числа в порядке неубывания.\n",
        "\n",
        "Список содержит не менее двух элементов. Числа подобраны так, что ответ однозначен.\n",
        "\n",
        "Решение должно иметь сложность O(n), где n - размер списка."
      ],
      "metadata": {
        "id": "lgviVsStJAJ6"
      }
    },
    {
      "cell_type": "code",
      "source": [
        "# 1-й вариант: с помощью поиска двух минимальных\n",
        "# и двух максимальных значений однократным линейным прохождением\n",
        "\n",
        "# считываем список с числами\n",
        "sequence = list(map(int, input().split()))\n",
        "\n",
        "def max_product(sequence):\n",
        "    # находим два наибольших числа\n",
        "    # max_1 - наибольшее значение\n",
        "    max_1 = sequence[0]\n",
        "    max_2 = sequence[1]\n",
        "    if max_1 < max_2:\n",
        "        (max_1, max_2) = (max_2, max_1)\n",
        "\n",
        "    # находим два наименьших числа\n",
        "    # min_1 - наименьшее значение\n",
        "    min_1 = sequence[0]\n",
        "    min_2 = sequence[1]\n",
        "    if min_1 > min_2:\n",
        "        (min_1, min_2) = (min_2, min_1)\n",
        "\n",
        "    for i in range(2, len(sequence)):\n",
        "        if sequence[i] > max_1:\n",
        "            max_2 = max_1\n",
        "            max_1 = sequence[i]\n",
        "        elif sequence[i] > max_2:\n",
        "            max_2 = sequence[i]\n",
        "        if sequence[i] < min_1:\n",
        "            min_2 = min_1\n",
        "            min_1 = sequence[i]\n",
        "        elif sequence[i] < min_2:\n",
        "            min_2 = sequence[i]\n",
        "\n",
        "    product_1 = max_1 * max_2\n",
        "    product_2 = min_1 * min_2\n",
        "\n",
        "    if product_1 > product_2:\n",
        "        return max_2, max_1\n",
        "    return min_1, min_2\n",
        "\n",
        "# выведем два числа, произведение которых максимально\n",
        "m, n = max_product(sequence)\n",
        "print(m, n)"
      ],
      "metadata": {
        "id": "8wxQjcxrPTJi"
      },
      "execution_count": null,
      "outputs": []
    },
    {
      "cell_type": "code",
      "source": [
        "# 2-й вариант: с помощью встроенной функции sorted()\n",
        "\n",
        "# считываем список с числами\n",
        "sequence = list(map(int, input().split()))\n",
        "\n",
        "# сформируем функцию для вычисления максимального значения\n",
        "# произведения двух чисел\n",
        "def max_product(sequence):\n",
        "    sequence = sorted(sequence)\n",
        "    product_1 = sequence[0] * sequence[1]\n",
        "    product_2 = sequence[-2] * sequence[-1]\n",
        "    if product_1 < product_2:\n",
        "        return sequence[-2], sequence[-1]\n",
        "    return sequence[0], sequence[1]\n",
        "\n",
        "# выведем два числа, произведение которых максимально\n",
        "result = max_product(sequence)\n",
        "print(result)"
      ],
      "metadata": {
        "id": "2c5B2kCXGFtG"
      },
      "execution_count": null,
      "outputs": []
    },
    {
      "cell_type": "markdown",
      "source": [
        "## **Задача H. Наибольшее произведение трех чисел**\n",
        "\n",
        "---\n"
      ],
      "metadata": {
        "id": "Muv49STLvflp"
      }
    },
    {
      "cell_type": "markdown",
      "source": [
        "В данном списке из n ≤ 105 целых чисел найдите три числа,произведение которых максимально.\n",
        "\n",
        "Решение должно иметь сложность O(n), где n - размер списка.\n",
        "\n",
        "Выведите три искомых числа в любом порядке."
      ],
      "metadata": {
        "id": "JHILCDcDwAB6"
      }
    },
    {
      "cell_type": "code",
      "source": [
        "# 1-й вариант решения - без использования\n",
        "# встроенной функции сортировки\n",
        "\n",
        "# считываем входящую последовательность чисел\n",
        "sequence = list(map(int, input().split()))\n",
        "\n",
        "# существует два возможных варианта решения задачи:\n",
        "# (1) найти три наибольших положительных числа и их произведение\n",
        "# (2) найти два наименьших отрицательных числа\n",
        "# и их произведение с наибольшим положительным,\n",
        "# после чего выбрать наибольшее из произведений\n",
        "\n",
        "# создадим функцию, сортирующую три числа по невозрастанию\n",
        "def sort_max_to_min(a, b, c):\n",
        "    if a < b:\n",
        "        (a, b) = (b, a)\n",
        "    if b < c:\n",
        "        (b, c) = (c, b)\n",
        "    if a < b:\n",
        "        (a, b) = (b, a)\n",
        "    return a, b, c\n",
        "\n",
        "# создадим функцию, сортирующую три числа по неубыванию\n",
        "def sort_min_to_max(a, b, c):\n",
        "    if a > b:\n",
        "        (a, b) = (b, a)\n",
        "    if b > c:\n",
        "        (b, c) = (c, b)\n",
        "    if a > b:\n",
        "        (a, b) = (b, a)\n",
        "    return a, b, c\n",
        "\n",
        "def max_product(sequence):\n",
        "    # если на вход поступила последовательность\n",
        "    # из всего трех чисел,\n",
        "    # достаточно рпосто вывести все три числа\n",
        "    if len(sequence) < 4:\n",
        "        return sequence[0], sequence[1], sequence[2]\n",
        "    else:\n",
        "        # находим три наибольших числа\n",
        "        # max_1 - наибольшее значение\n",
        "        max_1, max_2, max_3 = sort_max_to_min(\n",
        "            sequence[0],\n",
        "            sequence[1],\n",
        "            sequence[2])\n",
        "\n",
        "        # т.к. обязательно требуется найти три наибольших числа,\n",
        "        # чтобы ограничиться одним линейным проходом\n",
        "        # по последовательности находим три, а не два наименьших числа\n",
        "        # min_1 - наименьшее значение\n",
        "        min_1, min_2, min_3 = sort_min_to_max(\n",
        "            sequence[0],\n",
        "            sequence[1],\n",
        "            sequence[2])\n",
        "\n",
        "        for i in range(3, len(sequence)):\n",
        "            # поиск трех наибольших чисел в последовательности\n",
        "            # max_1 - наибольшее число\n",
        "            if sequence[i] >= max_1:\n",
        "                max_3 = max_2\n",
        "                max_2 = max_1\n",
        "                max_1 = sequence[i]\n",
        "            elif max_2 <= sequence[i] <= max_1:\n",
        "                max_3 = max_2\n",
        "                max_2 = sequence[i]\n",
        "            elif max_3 <= sequence[i] <= max_2:\n",
        "                max_3 = sequence[i]\n",
        "\n",
        "            # поиск трех наименьших чисел в последовательности\n",
        "            # min_1 - наименьшее число\n",
        "            if sequence[i] <= min_1:\n",
        "                min_3 = min_2\n",
        "                min_2 = min_1\n",
        "                min_1 = sequence[i]\n",
        "            elif min_1 <= sequence[i] <= min_2:\n",
        "                min_3 = min_2\n",
        "                min_2 = sequence[i]\n",
        "            elif min_2 <= sequence[i] <= min_3:\n",
        "                min_3 = sequence[i]\n",
        "\n",
        "        product_1 = max_1 * max_2 * max_3\n",
        "        product_2 = min_1 * min_2 * max_1\n",
        "\n",
        "        if product_1 >= product_2:\n",
        "            return max_1, max_2, max_3\n",
        "        return min_1, min_2, max_1\n",
        "\n",
        "# выведем три числа, произведение которых максимально\n",
        "m, n, k = max_product(sequence)\n",
        "print(m, n, k)"
      ],
      "metadata": {
        "id": "5158w3MP1bbK"
      },
      "execution_count": null,
      "outputs": []
    },
    {
      "cell_type": "code",
      "source": [
        "# 2-й вариант решения - с помощью\n",
        "# встроенной функции сортировки\n",
        "\n",
        "# считываем входящую последовательность чисел\n",
        "sequence = list(map(int, input().split()))\n",
        "\n",
        "# существует два возможных варианта решения задачи:\n",
        "# (1) найти три наибольших положительных числа и их произведение\n",
        "# (2) найти два наименьших отрицательных числа\n",
        "# и их произведение с наибольшим положительным,\n",
        "# после чего выбрать наибольшее из произведений\n",
        "\n",
        "def max_product(sequence):\n",
        "    sequence = sorted(sequence)\n",
        "    # создаем переменные с наибольшими значениями\n",
        "    # max_1 - наибольшее значение\n",
        "    max_1 = sequence[-1]\n",
        "    max_2 = sequence[-2]\n",
        "    max_3 = sequence[-3]\n",
        "    # создаем переменные с наименьшими значениями\n",
        "    # min_1 - наименьшее значение\n",
        "    min_1 = sequence[0]\n",
        "    min_2 = sequence[1]\n",
        "\n",
        "    product_1 = max_1 * max_2 * max_3\n",
        "    product_2 = min_1 * min_2 * max_1\n",
        "    if product_1 >= product_2:\n",
        "        return max_3, max_2, max_1\n",
        "    return min_1, min_2, max_1\n",
        "\n",
        "# выведем три числа, произведение которых максимально\n",
        "m, n, k = max_product(sequence)\n",
        "print(m, n, k)"
      ],
      "metadata": {
        "id": "vt3uJN5gYWFe"
      },
      "execution_count": null,
      "outputs": []
    },
    {
      "cell_type": "markdown",
      "source": [
        "## **Задача I. Сапер**\n",
        "\n",
        "---\n"
      ],
      "metadata": {
        "id": "rh0RHh59JjpO"
      }
    },
    {
      "cell_type": "markdown",
      "source": [
        "\n",
        "\n",
        "Вам необходимо построить поле для игры \"Сапер\" по его конфигурации – размерам и координатам расставленных на нем мин.\n",
        "\n",
        "Вкратце напомним правила построения поля для игры \"Сапер\":\n",
        "\n",
        "* Поле состоит из клеток с минами и пустых клеток\n",
        "\n",
        "* Клетки с миной обозначаются символом *\n",
        "\n",
        "*    Пустые клетки содержат число\n"
      ],
      "metadata": {
        "id": "cDN6woAqJjql"
      }
    },
    {
      "cell_type": "markdown",
      "source": [
        "![Снимок.JPG](data:image/jpeg;base64,/9j/4AAQSkZJRgABAQEAYABgAAD/4RDsRXhpZgAATU0AKgAAAAgABAE7AAIAAAALAAAISodpAAQAAAABAAAIVpydAAEAAAAWAAAQzuocAAcAAAgMAAAAPgAAAAAc6gAAAAgAAAAAAAAAAAAAAAAAAAAAAAAAAAAAAAAAAAAAAAAAAAAAAAAAAAAAAAAAAAAAAAAAAAAAAAAAAAAAAAAAAAAAAAAAAAAAAAAAAAAAAAAAAAAAAAAAAAAAAAAAAAAAAAAAAAAAAAAAAAAAAAAAAAAAAAAAAAAAAAAAAAAAAAAAAAAAAAAAAAAAAAAAAAAAAAAAAAAAAAAAAAAAAAAAAAAAAAAAAAAAAAAAAAAAAAAAAAAAAAAAAAAAAAAAAAAAAAAAAAAAAAAAAAAAAAAAAAAAAAAAAAAAAAAAAAAAAAAAAAAAAAAAAAAAAAAAAAAAAAAAAAAAAAAAAAAAAAAAAAAAAAAAAAAAAAAAAAAAAAAAAAAAAAAAAAAAAAAAAAAAAAAAAAAAAAAAAAAAAAAAAAAAAAAAAAAAAAAAAAAAAAAAAAAAAAAAAAAAAAAAAAAAAAAAAAAAAAAAAAAAAAAAAAAAAAAAAAAAAAAAAAAAAAAAAAAAAAAAAAAAAAAAAAAAAAAAAAAAAAAAAAAAAAAAAAAAAAAAAAAAAAAAAAAAAAAAAAAAAAAAAAAAAAAAAAAAAAAAAAAAAAAAAAAAAAAAAAAAAAAAAAAAAAAAAAAAAAAAAAAAAAAAAAAAAAAAAAAAAAAAAAAAAAAAAAAAAAAAAAAAAAAAAAAAAAAAAAAAAAAAAAAAAAAAAAAAAAAAAAAAAAAAAAAAAAAAAAAAAAAAAAAAAAAAAAAAAAAAAAAAAAAAAAAAAAAAAAAAAAAAAAAAAAAAAAAAAAAAAAAAAAAAAAAAAAAAAAAAAAAAAAAAAAAAAAAAAAAAAAAAAAAAAAAAAAAAAAAAAAAAAAAAAAAAAAAAAAAAAAAAAAAAAAAAAAAAAAAAAAAAAAAAAAAAAAAAAAAAAAAAAAAAAAAAAAAAAAAAAAAAAAAAAAAAAAAAAAAAAAAAAAAAAAAAAAAAAAAAAAAAAAAAAAAAAAAAAAAAAAAAAAAAAAAAAAAAAAAAAAAAAAAAAAAAAAAAAAAAAAAAAAAAAAAAAAAAAAAAAAAAAAAAAAAAAAAAAAAAAAAAAAAAAAAAAAAAAAAAAAAAAAAAAAAAAAAAAAAAAAAAAAAAAAAAAAAAAAAAAAAAAAAAAAAAAAAAAAAAAAAAAAAAAAAAAAAAAAAAAAAAAAAAAAAAAAAAAAAAAAAAAAAAAAAAAAAAAAAAAAAAAAAAAAAAAAAAAAAAAAAAAAAAAAAAAAAAAAAAAAAAAAAAAAAAAAAAAAAAAAAAAAAAAAAAAAAAAAAAAAAAAAAAAAAAAAAAAAAAAAAAAAAAAAAAAAAAAAAAAAAAAAAAAAAAAAAAAAAAAAAAAAAAAAAAAAAAAAAAAAAAAAAAAAAAAAAAAAAAAAAAAAAAAAAAAAAAAAAAAAAAAAAAAAAAAAAAAAAAAAAAAAAAAAAAAAAAAAAAAAAAAAAAAAAAAAAAAAAAAAAAAAAAAAAAAAAAAAAAAAAAAAAAAAAAAAAAAAAAAAAAAAAAAAAAAAAAAAAAAAAAAAAAAAAAAAAAAAAAAAAAAAAAAAAAAAAAAAAAAAAAAAAAAAAAAAAAAAAAAAAAAAAAAAAAAAAAAAAAAAAAAAAAAAAAAAAAAAAAAAAAAAAAAAAAAAAAAAAAAAAAAAAAAAAAAAAAAAAAAAAAAAAAAAAAAAAAAAAAAAAAAAAAAAAAAAAAAAAAAAAAAAAAAAAAAAAAAAAAAAAAAAAAAAAAAAAAAAAAAAAAAAAAAAAAAAAAAAAAAAAAAAAAAAAAAAAAAAAAAAAAAAAAAAAAAAAAAAAAAAAAAAAAAAAAAAAAAAAAAAAAAAAAAAAAAAAAAAAAAAAAAAAAAAAAAAAAAAAAAAAAAAAAAAAAAAAAAAAAAAAAAAAAAAAAAAAAAAAAAAAAAAAAAAAAAAAAAAAAAAAAAAAAAAAAAAAAAAAAAAAAAAAAAAAAAAAAAAAAAAAAAAAAAAAAAAAAAAAAAAAAAAAAAAAAAAAAAAAAAAAAAAAAAAAAAAAAAAAAAAAAAAAAAAAAAAAAAAAAAAAAAAAAAAAAAAAAAAAAAAAAAAAAAAAAAAAAAAAAAAAAAAAAAAAAAAAAAAAAAAAAAAAAAAAAAAAAAAAAAAAAAAAAAAAAAAAAAAAAAAAAAAAAAAAAAAAAAAAAAAAAAAAAAAAAAAAAAAAAAAAAAAAAAAAAAAAAAAAAAAAAAAAAAAAAAAAAAAAAAAAAAAAAAAAAAAAAAAAAAAAAAAAAAAAAAAAAAAAAAAAAAAAAAAAAAAAAAAAAAAAAAAAAAAAAAAAAAAAAAAAAAAAAAAAAAAAAAAAAAAAAAAAAAAAAAAAAAAAAAAAAAAAAAAAAAAAAAAAAAAAAAAAAAAAAAAAAAAAAAAAAAAAAAAAAAAAAAAAAAAAAAAAAAAAAAAAAAAAAAAAAAAAAAAAAAAAAAAAAAAAAAAAAAAAAAAAAAAAAAAAAAAAAAAAAAAAAAAAAAAAAAAAAAAAAAAAAAAAAAAAAAAAAAAAAAAAAAAAAAAAAAAAAAAAAAAAAAAAAAAAAAAAAAAAAAAAAAAAAAAAAAAAAAAAAAAAAAAAAAAAAAAAAAAAAAAAAAAAAAAAAAAAAAAAAAAAAAAAAAAAAAAAAAAAAAAAAAAAAAAAAAAAAAAAAAAAAAAAAAAAAAAAAAAAAAAAAAAAAAAAAAAAAAAAAAAAAAAAAAAAAAAAAAAAAAAAAAAAAAAAAAAAAAAAAAAAAAAAAAEVnb3IgVW1hZXYAAAAFkAMAAgAAABQAABCkkAQAAgAAABQAABC4kpEAAgAAAAM3MAAAkpIAAgAAAAM3MAAA6hwABwAACAwAAAiYAAAAABzqAAAACAAAAAAAAAAAAAAAAAAAAAAAAAAAAAAAAAAAAAAAAAAAAAAAAAAAAAAAAAAAAAAAAAAAAAAAAAAAAAAAAAAAAAAAAAAAAAAAAAAAAAAAAAAAAAAAAAAAAAAAAAAAAAAAAAAAAAAAAAAAAAAAAAAAAAAAAAAAAAAAAAAAAAAAAAAAAAAAAAAAAAAAAAAAAAAAAAAAAAAAAAAAAAAAAAAAAAAAAAAAAAAAAAAAAAAAAAAAAAAAAAAAAAAAAAAAAAAAAAAAAAAAAAAAAAAAAAAAAAAAAAAAAAAAAAAAAAAAAAAAAAAAAAAAAAAAAAAAAAAAAAAAAAAAAAAAAAAAAAAAAAAAAAAAAAAAAAAAAAAAAAAAAAAAAAAAAAAAAAAAAAAAAAAAAAAAAAAAAAAAAAAAAAAAAAAAAAAAAAAAAAAAAAAAAAAAAAAAAAAAAAAAAAAAAAAAAAAAAAAAAAAAAAAAAAAAAAAAAAAAAAAAAAAAAAAAAAAAAAAAAAAAAAAAAAAAAAAAAAAAAAAAAAAAAAAAAAAAAAAAAAAAAAAAAAAAAAAAAAAAAAAAAAAAAAAAAAAAAAAAAAAAAAAAAAAAAAAAAAAAAAAAAAAAAAAAAAAAAAAAAAAAAAAAAAAAAAAAAAAAAAAAAAAAAAAAAAAAAAAAAAAAAAAAAAAAAAAAAAAAAAAAAAAAAAAAAAAAAAAAAAAAAAAAAAAAAAAAAAAAAAAAAAAAAAAAAAAAAAAAAAAAAAAAAAAAAAAAAAAAAAAAAAAAAAAAAAAAAAAAAAAAAAAAAAAAAAAAAAAAAAAAAAAAAAAAAAAAAAAAAAAAAAAAAAAAAAAAAAAAAAAAAAAAAAAAAAAAAAAAAAAAAAAAAAAAAAAAAAAAAAAAAAAAAAAAAAAAAAAAAAAAAAAAAAAAAAAAAAAAAAAAAAAAAAAAAAAAAAAAAAAAAAAAAAAAAAAAAAAAAAAAAAAAAAAAAAAAAAAAAAAAAAAAAAAAAAAAAAAAAAAAAAAAAAAAAAAAAAAAAAAAAAAAAAAAAAAAAAAAAAAAAAAAAAAAAAAAAAAAAAAAAAAAAAAAAAAAAAAAAAAAAAAAAAAAAAAAAAAAAAAAAAAAAAAAAAAAAAAAAAAAAAAAAAAAAAAAAAAAAAAAAAAAAAAAAAAAAAAAAAAAAAAAAAAAAAAAAAAAAAAAAAAAAAAAAAAAAAAAAAAAAAAAAAAAAAAAAAAAAAAAAAAAAAAAAAAAAAAAAAAAAAAAAAAAAAAAAAAAAAAAAAAAAAAAAAAAAAAAAAAAAAAAAAAAAAAAAAAAAAAAAAAAAAAAAAAAAAAAAAAAAAAAAAAAAAAAAAAAAAAAAAAAAAAAAAAAAAAAAAAAAAAAAAAAAAAAAAAAAAAAAAAAAAAAAAAAAAAAAAAAAAAAAAAAAAAAAAAAAAAAAAAAAAAAAAAAAAAAAAAAAAAAAAAAAAAAAAAAAAAAAAAAAAAAAAAAAAAAAAAAAAAAAAAAAAAAAAAAAAAAAAAAAAAAAAAAAAAAAAAAAAAAAAAAAAAAAAAAAAAAAAAAAAAAAAAAAAAAAAAAAAAAAAAAAAAAAAAAAAAAAAAAAAAAAAAAAAAAAAAAAAAAAAAAAAAAAAAAAAAAAAAAAAAAAAAAAAAAAAAAAAAAAAAAAAAAAAAAAAAAAAAAAAAAAAAAAAAAAAAAAAAAAAAAAAAAAAAAAAAAAAAAAAAAAAAAAAAAAAAAAAAAAAAAAAAAAAAAAAAAAAAAAAAAAAAAAAAAAAAAAAAAAAAAAAAAAAAAAAAAAAAAAAAAAAAAAAAAAAAAAAAAAAAAAAAAAAAAAAAAAAAAAAAAAAAAAAAAAAAAAAAAAAAAAAAAAAAAAAAAAAAAAAAAAAAAAAAAAAAAAAAAAAAAAAAAAAAAAAAAAAAAAAAAAAAAAAAAAAAAAAAAAAAAAAAAAAAAAAAAAAAAAAAAAAAAAAAAAAAAAAAAAAAAAAAAAAAAAAAAAAAAAAAAAAAAAAAAAAAAAAAAAAAAAAAAAAAAAAAAAAAAAAAAAAAAAAAAAAAAAAAAAAAAAAAAAAAAAAAAAAAAAAAAAAAAAAAAAAAAAAAAAAAAAAAAAAAAAAAAAAAAAAAAAAAAAAAAAAAAAAAAAAAAAAAAAAAAAAAAAAAAAAAAAAAAAAAAAAAAAAAAAAAAAAAAAAAAAAAAAAAAAAAAAAAAAAAAAAAAAAAAAAAAAAAAAAAAAAAAAAAAAAAAAAAAAAAAAAAAAAAAAAAAAAAAAAAAAAAAAAAAAAAAAAAAAAAAAAAAAAAAAAAAAAAAAAAAAAAAAAAAAAAAAAAAAAAAAAAAAAAAAAAAAAAAAAAAAAAAAAAAAAAAAAAAAAAAAAAAAAAAAAAAAAAAAAAAAAAAAAAAAAAAAAAAAAAAAAAAAAAAAAAAAAAAAAAAAAAAAAAAAAAAAAAAAAAAAAAAAAAAAAAAAAAAAAAAAAAAAAAAAAAAAAAAAAAAAAAAAAAAAAAAAAAAAAAAAAAAAAAAAAAAAAAAAAAAAAAAAAAAAAAAAAAAAAAAAAAAAAAAAAAAAAAAAAAAAAAAAAAAAAAAAAAAAAAAAAAAAAAAAAAAAAAAAAAAAAAAAAAAAAAAAAAAAAAAAAAAAAAAAAAAAAAAAAAAAAAAAAAAAAAAAAAAAAAAAAAAAAAAAAAAAAAAAAAAAAAAAAAAAAAAAAAAAAAAAAAAAAAAAAAAAAAAAAAAAAAAAAAAAAAAAAAAAAAAMjAyMzoxMTowOCAxMDoyMTowNAAyMDIzOjExOjA4IDEwOjIxOjA0AAAARQBnAG8AcgAgAFUAbQBhAGUAdgAAAP/hCx1odHRwOi8vbnMuYWRvYmUuY29tL3hhcC8xLjAvADw/eHBhY2tldCBiZWdpbj0n77u/JyBpZD0nVzVNME1wQ2VoaUh6cmVTek5UY3prYzlkJz8+DQo8eDp4bXBtZXRhIHhtbG5zOng9ImFkb2JlOm5zOm1ldGEvIj48cmRmOlJERiB4bWxuczpyZGY9Imh0dHA6Ly93d3cudzMub3JnLzE5OTkvMDIvMjItcmRmLXN5bnRheC1ucyMiPjxyZGY6RGVzY3JpcHRpb24gcmRmOmFib3V0PSJ1dWlkOmZhZjViZGQ1LWJhM2QtMTFkYS1hZDMxLWQzM2Q3NTE4MmYxYiIgeG1sbnM6ZGM9Imh0dHA6Ly9wdXJsLm9yZy9kYy9lbGVtZW50cy8xLjEvIi8+PHJkZjpEZXNjcmlwdGlvbiByZGY6YWJvdXQ9InV1aWQ6ZmFmNWJkZDUtYmEzZC0xMWRhLWFkMzEtZDMzZDc1MTgyZjFiIiB4bWxuczp4bXA9Imh0dHA6Ly9ucy5hZG9iZS5jb20veGFwLzEuMC8iPjx4bXA6Q3JlYXRlRGF0ZT4yMDIzLTExLTA4VDEwOjIxOjA0LjY5OTwveG1wOkNyZWF0ZURhdGU+PC9yZGY6RGVzY3JpcHRpb24+PHJkZjpEZXNjcmlwdGlvbiByZGY6YWJvdXQ9InV1aWQ6ZmFmNWJkZDUtYmEzZC0xMWRhLWFkMzEtZDMzZDc1MTgyZjFiIiB4bWxuczpkYz0iaHR0cDovL3B1cmwub3JnL2RjL2VsZW1lbnRzLzEuMS8iPjxkYzpjcmVhdG9yPjxyZGY6U2VxIHhtbG5zOnJkZj0iaHR0cDovL3d3dy53My5vcmcvMTk5OS8wMi8yMi1yZGYtc3ludGF4LW5zIyI+PHJkZjpsaT5FZ29yIFVtYWV2PC9yZGY6bGk+PC9yZGY6U2VxPg0KCQkJPC9kYzpjcmVhdG9yPjwvcmRmOkRlc2NyaXB0aW9uPjwvcmRmOlJERj48L3g6eG1wbWV0YT4NCiAgICAgICAgICAgICAgICAgICAgICAgICAgICAgICAgICAgICAgICAgICAgICAgICAgICAgICAgICAgICAgICAgICAgICAgICAgICAgICAgICAgICAgICAgICAgICAgICAgICAKICAgICAgICAgICAgICAgICAgICAgICAgICAgICAgICAgICAgICAgICAgICAgICAgICAgICAgICAgICAgICAgICAgICAgICAgICAgICAgICAgICAgICAgICAgICAgICAgICAgIAogICAgICAgICAgICAgICAgICAgICAgICAgICAgICAgICAgICAgICAgICAgICAgICAgICAgICAgICAgICAgICAgICAgICAgICAgICAgICAgICAgICAgICAgICAgICAgICAgICAgCiAgICAgICAgICAgICAgICAgICAgICAgICAgICAgICAgICAgICAgICAgICAgICAgICAgICAgICAgICAgICAgICAgICAgICAgICAgICAgICAgICAgICAgICAgICAgICAgICAgICAKICAgICAgICAgICAgICAgICAgICAgICAgICAgICAgICAgICAgICAgICAgICAgICAgICAgICAgICAgICAgICAgICAgICAgICAgICAgICAgICAgICAgICAgICAgICAgICAgICAgIAogICAgICAgICAgICAgICAgICAgICAgICAgICAgICAgICAgICAgICAgICAgICAgICAgICAgICAgICAgICAgICAgICAgICAgICAgICAgICAgICAgICAgICAgICAgICAgICAgICAgCiAgICAgICAgICAgICAgICAgICAgICAgICAgICAgICAgICAgICAgICAgICAgICAgICAgICAgICAgICAgICAgICAgICAgICAgICAgICAgICAgICAgICAgICAgICAgICAgICAgICAKICAgICAgICAgICAgICAgICAgICAgICAgICAgICAgICAgICAgICAgICAgICAgICAgICAgICAgICAgICAgICAgICAgICAgICAgICAgICAgICAgICAgICAgICAgICAgICAgICAgIAogICAgICAgICAgICAgICAgICAgICAgICAgICAgICAgICAgICAgICAgICAgICAgICAgICAgICAgICAgICAgICAgICAgICAgICAgICAgICAgICAgICAgICAgICAgICAgICAgICAgCiAgICAgICAgICAgICAgICAgICAgICAgICAgICAgICAgICAgICAgICAgICAgICAgICAgICAgICAgICAgICAgICAgICAgICAgICAgICAgICAgICAgICAgICAgICAgICAgICAgICAKICAgICAgICAgICAgICAgICAgICAgICAgICAgICAgICAgICAgICAgICAgICAgICAgICAgICAgICAgICAgICAgICAgICAgICAgICAgICAgICAgICAgICAgICAgICAgICAgICAgIAogICAgICAgICAgICAgICAgICAgICAgICAgICAgICAgICAgICAgICAgICAgICAgICAgICAgICAgICAgICAgICAgICAgICAgICAgICAgICAgICAgICAgICAgICAgICAgICAgICAgCiAgICAgICAgICAgICAgICAgICAgICAgICAgICAgICAgICAgICAgICAgICAgICAgICAgICAgICAgICAgICAgICAgICAgICAgICAgICAgICAgICAgICAgICAgICAgICAgICAgICAKICAgICAgICAgICAgICAgICAgICAgICAgICAgICAgICAgICAgICAgICAgICAgICAgICAgICAgICAgICAgICAgICAgICAgICAgICAgICAgICAgICAgICAgICAgICAgICAgICAgIAogICAgICAgICAgICAgICAgICAgICAgICAgICAgICAgICAgICAgICAgICAgICAgICAgICAgICAgICAgICAgICAgICAgICAgICAgICAgICAgICAgICAgICAgICAgICAgICAgICAgCiAgICAgICAgICAgICAgICAgICAgICAgICAgICAgICAgICAgICAgICAgICAgICAgICAgICAgICAgICAgICAgICAgICAgICAgICAgICAgICAgICAgICAgICAgICAgICAgICAgICAKICAgICAgICAgICAgICAgICAgICAgICAgICAgICAgICAgICAgICAgICAgICAgICAgICAgICAgICAgICAgICAgICAgICAgICAgICAgICAgICAgICAgICAgICAgICAgICAgICAgIAogICAgICAgICAgICAgICAgICAgICAgICAgICAgICAgICAgICAgICAgICAgICAgICAgICAgICAgICAgICAgICAgICAgICAgICAgICAgICAgICAgICAgICAgICAgICAgICAgICAgCiAgICAgICAgICAgICAgICAgICAgICAgICAgICAgICAgICAgICAgICAgICAgICAgICAgICAgICAgICAgICAgICAgICAgICAgICAgICAgICAgICAgICAgICAgICAgICAgICAgICAKICAgICAgICAgICAgICAgICAgICAgICAgICAgICAgICAgICAgICAgICAgICAgICAgICAgICAgICAgICAgICAgICAgICAgICAgICAgICAgICAgICAgICAgICAgICAgICAgICAgIAogICAgICAgICAgICAgICAgICAgICAgICAgICAgPD94cGFja2V0IGVuZD0ndyc/Pv/bAEMABwUFBgUEBwYFBggHBwgKEQsKCQkKFQ8QDBEYFRoZGBUYFxseJyEbHSUdFxgiLiIlKCkrLCsaIC8zLyoyJyorKv/bAEMBBwgICgkKFAsLFCocGBwqKioqKioqKioqKioqKioqKioqKioqKioqKioqKioqKioqKioqKioqKioqKioqKioqKv/AABEIACIAdAMBIgACEQEDEQH/xAAfAAABBQEBAQEBAQAAAAAAAAAAAQIDBAUGBwgJCgv/xAC1EAACAQMDAgQDBQUEBAAAAX0BAgMABBEFEiExQQYTUWEHInEUMoGRoQgjQrHBFVLR8CQzYnKCCQoWFxgZGiUmJygpKjQ1Njc4OTpDREVGR0hJSlNUVVZXWFlaY2RlZmdoaWpzdHV2d3h5eoOEhYaHiImKkpOUlZaXmJmaoqOkpaanqKmqsrO0tba3uLm6wsPExcbHyMnK0tPU1dbX2Nna4eLj5OXm5+jp6vHy8/T19vf4+fr/xAAfAQADAQEBAQEBAQEBAAAAAAAAAQIDBAUGBwgJCgv/xAC1EQACAQIEBAMEBwUEBAABAncAAQIDEQQFITEGEkFRB2FxEyIygQgUQpGhscEJIzNS8BVictEKFiQ04SXxFxgZGiYnKCkqNTY3ODk6Q0RFRkdISUpTVFVWV1hZWmNkZWZnaGlqc3R1dnd4eXqCg4SFhoeIiYqSk5SVlpeYmZqio6Slpqeoqaqys7S1tre4ubrCw8TFxsfIycrS09TV1tfY2dri4+Tl5ufo6ery8/T19vf4+fr/2gAMAwEAAhEDEQA/APpGiuU+J2oHTPhnrdzFJPHOLfZbvbzvDIJmIWPDoQR85Xvz0PFHg/XZrjOhPpmrOdJjW1n1a6eJ4biVAFYhxKzuxIJPGQchsHiha3/r+v8AgoHpb+v6/wCAdXRRRQAUVyfi3X76PW9I8MeH5BDqerF5JLraG+x20ePMlCkEFiSFUEEZOSCBg0PD/jNbGbXNO1/UptRk0zUzZ20yWpkuboGJJCPKgT5mXeQSiAYXJA5NC1/r0X5sHp/Xr/kd3RWDY6h4h1O9ik/siLSNODZc30okupRj7ojjJRAc5DGRjwQUGcjG+K0s58L2NhYXd3Z32para2dtPaXMkDoWf5zlCMjyw/BOPyFHb1DudvRWD4W8Uf8ACT2800Wi6lp9tG2yOe9MJS4xxmMxyPuX/a+6c8E1vUAFFFc9ceLBNcyWfh3TLrWbmNzG0sa+VaxsDg7rh/lYBuGEfmOpBG3IxQB0NFUtK/tM2ZbW/si3LOWEdpuKRL2Xe2C5HPzbVz/dFefeJfFOsR+L9a0qDWZ9JvrW3hk0PT47aJ11dmUk53qWb5/kIRk2qCxOMkHWwbnp1FNjLmJDKArlRuAOQD3ooEndXOS8f+HrzxSuh6VFDI2nHU47jUZY5/KKRRqzKAQwbJcIMryOtc9ajxN4W+Fl3o0llHaTWLmw0+eacyfbFecpCFEUiumUZBvLBlOTjjJ9QrP1jQ9P1+1ittVhaaKKZZ0VZnjw69DlSCR7Hg9xQtNOjev4fpsV5/11/wAzL8Xz3mm+Elh0uRRcTSwWaeb5rlvMdYzh1kRw2Gzv3ZGM8mrfhfVG1bS5ZFtmhtoLh7e1mNw0/wBqhTAWYOwyQ3qc5xnLAgnH0zw1r/8AbiPr1/b3On2d/Lf2rRySmSV5EK7GV8iNELybVDMMFOm3nsaFtd9f+B/wfvJ8l0/4P/AOJ17T9Y074gp4m0rRZNZ3aQ9hHFFPFG0Mnm7wzGRlGxuhK5Ybfumq+m6H4d8IeCvsHxD1DRppdTunvL6TU3jWC4unO5tokwCFwAOM4UHiu+oo2Vv63v8AmVu7/wBbW/I4TRNW8Nx61bW3hn4iWl3HK+3+yrjVI78ycc+WzOZg/A6uygZ+TnIZ8QPBl14417S7K4ikXRra0u5JZkuDHm4dBHEvysHwAzk/wkcHriu+opSXMrP+v+G6AnZ3R52t74n/AOEQ8N6bq1kum6jcXdtZXELXDNJOqKGldZIJF8viN2HLZAwyjcRXohrM1bQrTVri0u5k/wBM09mks5C8gWOQjGWRWUOOnB/TrWXfaP4ht9AstG0O+hlQwPb3l/qE0jXCZXAlTrvYEk7WIzx81VJt3fVv+v68xRSVl0JPA011feHf7U1CTzJ7+aSYMhlEbR7isbJHJI/lhkCttU4+bpWNrOo/DmTV7i5k8VaRo+tK2ya7s9WitrjevAEoDYk24xslDKMYx2rtbGzh07T7eytVKwW0SwxgnOFUAD9BU9J76AttTD8OXq6noMrWPiW015Q7xxahbCNscDAfyzsZxnJwFByPlHfhbPwhql3b6DZXPhn+z9W03UIr2+8QtNAwunjOJHUo3mu0qjGJFQANz90A+rUU+t/T8A6W9fxCiiikAUUUUAFFFFABRRRQAUUUUAFFFFABRRRQAUUUUAFFFFAH/9k=)"
      ],
      "metadata": {
        "id": "HgS68nNxKR0d"
      }
    },
    {
      "cell_type": "markdown",
      "source": [
        " – количество мин на соседних клетках. Соседними клетками являются восемь клеток, имеющих смежный угол или сторону."
      ],
      "metadata": {
        "id": "0qhuYJS4KR2A"
      }
    },
    {
      "cell_type": "markdown",
      "source": [
        "**Формат ввода**\n",
        "\n",
        "В первой строке содержатся три числа: N, 1 ≤ N ≤ 100 - количество строк на поле, M, 1 ≤ M ≤ 100 - количество столбцов на поле, K, 0 ≤ K ≤ N ⋅ M - количество мин на поле.\n",
        "\n",
        "В следующих K строках содержатся по два числа с координатами мин: p, 1 ≤ p ≤ N - номер строки мины, q, 1 ≤ 1 ≤ M - номер столбца мины.\n",
        "\n",
        "**Формат вывода**\n",
        "\n",
        "Выведите построенное поле, разделяя строки поля переводом строки, а столбцы - пробелом."
      ],
      "metadata": {
        "id": "niLyY3jYKR3S"
      }
    },
    {
      "cell_type": "code",
      "source": [
        "# считываем сведения о количестве строк поля,\n",
        "# количестве столбцов поля, количестве мин на поле\n",
        "n, m, mines_number = map(int, input().split())\n",
        "\n",
        "# сфоримруем функцию, составляющую поле\n",
        "# из клеток с минами и пустых клеток\n",
        "def minefield(n, m, mines):\n",
        "    # решение основано на создании массивов сдвигов,\n",
        "    # благодаря сдвигу можно 'узнать' соседей\n",
        "    # каждой отдельно взятой клетки\n",
        "    di = (-1, -1, -1, 0, 0, 1, 1, 1)\n",
        "    dj = (-1, 0, 1, -1, 1, -1, 0, 1)\n",
        "    # создаем пустой список, в который будут\n",
        "    # построчно добавлены все создаваемые области;\n",
        "    # вокруг игровой области будет создано обрамление,\n",
        "    # чтобы у каждой пограничной клетки после сдвига\n",
        "    # появился сосед, - это позволит избежать ошибку\n",
        "    # выхода за границу поля при сдвиге массива\n",
        "    # относительно текущей клетки\n",
        "    # для клеток из рамки поиск соседей вызываться не будет\n",
        "    field = []\n",
        "    for k in range(n + 2):\n",
        "        field.append([0] * (m + 2))\n",
        "    # проходим по каждой соседней клетке каждой мины\n",
        "    # и заполняем ее значением 1\n",
        "    for mine_i, mine_j in mines:\n",
        "        for k in range(len(di)):\n",
        "            field[mine_i + di[k]][mine_j + dj[k]] += 1\n",
        "    # проходим по каждой мине и ставим на ее место символ '*'\n",
        "    for mine_i, mine_j in mines:\n",
        "        field[mine_i][mine_j] = '*'\n",
        "    return field\n",
        "\n",
        "# извлекаем координаты мин и\n",
        "# выводим построчно игровое поле\n",
        "mines = []\n",
        "for i in range(mines_number):\n",
        "    mines.append(tuple(map(int, input().split())))\n",
        "field = minefield(n, m, mines)\n",
        "# выводим полученное игровое поле, не печатая рамочную область\n",
        "for i in range(1, n + 1):\n",
        "    for j in range(1, m + 1):\n",
        "        print(field[i][j], end = ' ')\n",
        "    print()"
      ],
      "metadata": {
        "id": "vPsT6NdLO5M6"
      },
      "execution_count": null,
      "outputs": []
    },
    {
      "cell_type": "markdown",
      "source": [
        "## **Задача J. Треугольник Максима**\n",
        "\n",
        "---"
      ],
      "metadata": {
        "id": "ijLmQcsbeoJK"
      }
    },
    {
      "cell_type": "markdown",
      "source": [
        "\n",
        "\n",
        "С детства Максим был неплохим музыкантом и мастером на все руки. Недавно он самостоятельно сделал несложный перкуссионный музыкальный инструмент — треугольник. Ему нужно узнать, какова частота звука, издаваемого его инструментом.\n",
        "\n",
        "У Максима есть профессиональный музыкальный тюнер, с помощью которого можно проигрывать ноту с заданной частотой. Максим действует следующим образом: он включает на тюнере ноты с разными частотами и для каждой ноты на слух определяет, ближе или дальше она к издаваемому треугольником звуку, чем предыдущая нота. Поскольку слух у Максима абсолютный, он определяет это всегда абсолютно верно.\n",
        "\n",
        "Вам Максим показал запись, в которой приведена последовательность частот, выставляемых им на тюнере, и про каждую ноту, начиная со второй, записано — ближе или дальше она к звуку треугольника, чем предыдущая нота. Заранее известно, что частота звучания треугольника Максима составляет не менее 30 герц и не более 4000 герц.\n",
        "\n",
        "Требуется написать программу, которая определяет, в каком интервале может находиться частота звучания треугольника.\n"
      ],
      "metadata": {
        "id": "5G400hU9e2OO"
      }
    },
    {
      "cell_type": "markdown",
      "source": [
        "**Формат ввода**\n",
        "\n",
        "Первая строка входного файла содержит целое число n — количество нот, которые воспроизводил Максим с помощью тюнера (2 ≤ n ≤ 1000). Последующие n строк содержат записи Максима, причём каждая строка содержит две компоненты: вещественное число fi — частоту, выставленную на тюнере, в герцах (30 ≤ fi ≤ 4000), и слово «closer» или слово «further» для каждой частоты, кроме первой.\n",
        "\n",
        "Слово «closer» означает, что частота данной ноты ближе к частоте звучания треугольника, чем частота предыдущей ноты, что формально описывается соотношением: |fi − ftriangle| < |fi − 1 − ftriangle| .\n",
        "\n",
        "Слово «further» означает, что частота данной ноты дальше, чем предыдущая.\n",
        "\n",
        "Если оказалось, что очередная нота так же близка к звуку треугольника, как и предыдущая нота, то Максим мог записать любое из двух указанных выше слов.\n",
        "\n",
        "Гарантируется, что результаты, полученные Максимом, непротиворечивы.\n",
        "\n",
        "**Формат вывода**\n",
        "\n",
        "В выходной файл необходимо вывести через пробел два вещественных числа — наименьшее и наибольшее возможное значение частоты звучания треугольника, изготовленного Максимом. Числа должны быть выведены с точностью не хуже 10^−6."
      ],
      "metadata": {
        "id": "4PSyqAUMe380"
      }
    },
    {
      "cell_type": "code",
      "source": [
        "# 1-й вариант: без функции\n",
        "\n",
        "# считываем количество нот и частоту первой ноты\n",
        "notes_number = int(input())\n",
        "first_note = float(input())\n",
        "\n",
        "# в переменные запишем левую и правую границы частоты нот\n",
        "left = 30\n",
        "right = 4000\n",
        "\n",
        "# всего количество нот notes_number,\n",
        "# но у первой ноты нет характеристики\n",
        "# и она была выведена отдельно от остальных\n",
        "for i in range(notes_number - 1):\n",
        "    # считываем ноты, начиная со второй,\n",
        "    # и их характеристику\n",
        "    note, character = input().strip().split()\n",
        "    note = float(note)\n",
        "    # 'заплатка' на случай, если разница частот двух нот\n",
        "    # ничтожно мала - пропускаем и идем дальше по циклу\n",
        "    if abs(note - first_note) < 1e-6:\n",
        "        continue\n",
        "    if character == 'closer':\n",
        "        if note > first_note:\n",
        "            left = max(left, (note + first_note) / 2)\n",
        "        else:\n",
        "            right = min(right, (note + first_note) / 2)\n",
        "    else:\n",
        "        if note > first_note:\n",
        "            right = min(right, (note + first_note) / 2)\n",
        "        else:\n",
        "            left = max(left, (note + first_note) / 2)\n",
        "    # перезаписываем значение исходной ноты\n",
        "    # для следующей итерации\n",
        "    first_note = note\n",
        "print(left, right)"
      ],
      "metadata": {
        "id": "OHc8LyWbGFxZ"
      },
      "execution_count": null,
      "outputs": []
    },
    {
      "cell_type": "code",
      "source": [
        "# 2-й вариант: с использованием функции\n",
        "\n",
        "# считываем количество нот и частоту первой ноты\n",
        "notes_number = int(input())\n",
        "first_note = float(input())\n",
        "\n",
        "# в переменные запишем левую и правую границы частоты нот\n",
        "left = 30\n",
        "right = 4000\n",
        "\n",
        "# сформируем функцию, определяющую диапазон частот\n",
        "# звучания треугольника\n",
        "def frequency_range(notes_number, first_note):\n",
        "    # всего количество нот notes_number,\n",
        "    # но у первой ноты нет характеристики\n",
        "    # и она была выведена отдельно от остальных\n",
        "    for i in range(notes_number - 1):\n",
        "        # считываем ноты, начиная со второй,\n",
        "        # и их характеристику\n",
        "        note, character = input().strip().split()\n",
        "        note = float(note)\n",
        "        # 'заплатка' на случай, если разница частот двух нот\n",
        "        # ничтожно мала - пропускаем и идем дальше по циклу\n",
        "        if abs(note - first_note) < 1e-6:\n",
        "            continue\n",
        "        if character == 'closer':\n",
        "            if note > first_note:\n",
        "                left = max(left, (note + first_note) / 2)\n",
        "            else:\n",
        "                right = min(right, (note + first_note) / 2)\n",
        "        else:\n",
        "            if note > first_note:\n",
        "                right = min(right, (note + first_note) / 2)\n",
        "            else:\n",
        "                left = max(left, (note + first_note) / 2)\n",
        "        # перезаписываем значение исходной ноты\n",
        "        # для следующей итерации\n",
        "        first_note = note\n",
        "    print(left, right)\n",
        "\n",
        "# выведем диапазон значений частот\n",
        "l, r = frequency_range(notes_number, first_note)\n",
        "print(l, r)"
      ],
      "metadata": {
        "id": "eivF56CsJcHV"
      },
      "execution_count": null,
      "outputs": []
    }
  ]
}