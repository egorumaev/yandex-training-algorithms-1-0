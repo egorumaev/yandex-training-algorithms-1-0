{
  "nbformat": 4,
  "nbformat_minor": 0,
  "metadata": {
    "colab": {
      "provenance": []
    },
    "kernelspec": {
      "name": "python3",
      "display_name": "Python 3"
    },
    "language_info": {
      "name": "python"
    }
  },
  "cells": [
    {
      "cell_type": "markdown",
      "source": [
        "# **<font color='crimson'>«Тренировки по алгоритмам 1.0»</font>**\n",
        "\n",
        "---\n"
      ],
      "metadata": {
        "id": "HAJ7vEjgOZ9D"
      }
    },
    {
      "cell_type": "markdown",
      "source": [
        "# **<font color='green'>ТЕМА 1: Сложность, тестирование, особые случаи</font>**\n",
        "\n",
        "---"
      ],
      "metadata": {
        "id": "ffzTmmiiPHCX"
      }
    },
    {
      "cell_type": "markdown",
      "source": [
        "## **Задача А. Кондиционер**\n",
        "\n",
        "---"
      ],
      "metadata": {
        "id": "EXGGNC2iPdYC"
      }
    },
    {
      "cell_type": "markdown",
      "source": [
        "В офисе, где работает программист Петр, установили кондиционер нового типа. Этот кондиционер отличается особой простотой в управлении. У кондиционера есть всего лишь два управляемых параметра: желаемая температура и режим работы.\n",
        "\n",
        "Кондиционер может работать в следующих четырех режимах:\n",
        "\n",
        "«freeze» — охлаждение. В этом режиме кондиционер может только уменьшать температуру. Если температура в комнате и так не больше желаемой, то он выключается.\n",
        "\n",
        "«heat» — нагрев. В этом режиме кондиционер может только увеличивать температуру. Если температура в комнате и так не меньше желаемой, то он выключается.\n",
        "\n",
        "«auto» — автоматический режим. В этом режиме кондиционер может как увеличивать, так и уменьшать температуру в комнате до желаемой.\n",
        "\n",
        "«fan» — вентиляция. В этом режиме кондиционер осуществляет только вентиляцию воздуха и не изменяет температуру в комнате.\n",
        "\n",
        "Кондиционер достаточно мощный, поэтому при настройке на правильный режим работы он за час доводит температуру в комнате до желаемой.\n",
        "\n",
        "Требуется написать программу, которая по заданной температуре в комнате troom, установленным на кондиционере желаемой температуре tcond и режиму работы определяет температуру, которая установится в комнате через час.\n"
      ],
      "metadata": {
        "id": "zcJP8vkJPtnG"
      }
    },
    {
      "cell_type": "markdown",
      "source": [
        "**Формат ввода**\n",
        "\n",
        "Первая строка входного файла содержит два целых числа troom, и tcond, разделенных ровно одним пробелом (–50 ≤ troom ≤ 50, –50 ≤ tcond ≤ 50).\n",
        "\n",
        "Вторая строка содержит одно слово, записанное строчными буквами латинского алфавита — режим работы кондиционера.\n"
      ],
      "metadata": {
        "id": "czOTbq95RO7k"
      }
    },
    {
      "cell_type": "markdown",
      "source": [
        "**Формат вывода**\n",
        "\n",
        "Выходной файл должен содержать одно целое число — температуру, которая установится в комнате через час."
      ],
      "metadata": {
        "id": "GWZ6GoMKRU2u"
      }
    },
    {
      "cell_type": "code",
      "source": [
        "# считываем исходные данные\n",
        "troom, tcond = map(int, input().split())\n",
        "operating_mode = input()\n",
        "\n",
        "# создадим функцию для определения температуры\n",
        "def room_temperature(troom, tcond, operating_mode):\n",
        "    if operating_mode == 'freeze' and troom > tcond:\n",
        "        return tcond\n",
        "    elif operating_mode == 'heat' and troom < tcond:\n",
        "        return tcond\n",
        "    elif operating_mode == 'auto':\n",
        "        return tcond\n",
        "    return troom\n",
        "\n",
        "# получим предсказание температуры в комнате через час\n",
        "predict_temperature = room_temperature(troom, tcond, operating_mode)\n",
        "print(predict_temperature)"
      ],
      "metadata": {
        "id": "fS5BFXoZOYRM"
      },
      "execution_count": null,
      "outputs": []
    },
    {
      "cell_type": "markdown",
      "source": [
        "## **Задача В. Треугольник**\n",
        "\n",
        "---"
      ],
      "metadata": {
        "id": "0CMcYVh9XLfZ"
      }
    },
    {
      "cell_type": "markdown",
      "source": [
        "Даны три натуральных числа. Возможно ли построить треугольник с такими сторонами. Если это возможно, выведите строку YES, иначе выведите строку NO.\n",
        "\n",
        "Треугольник — это три точки, не лежащие на одной прямой.\n"
      ],
      "metadata": {
        "id": "E1xlxxzVXUkI"
      }
    },
    {
      "cell_type": "markdown",
      "source": [
        "**Формат ввода**\n",
        "\n",
        "Вводятся три натуральных числа.\n",
        "\n",
        "**Формат вывода**\n",
        "\n",
        "Выведите ответ на задачу."
      ],
      "metadata": {
        "id": "CETxn_8dXUlc"
      }
    },
    {
      "cell_type": "code",
      "source": [
        "# получим значения сторон треугольника\n",
        "a = int(input())\n",
        "b = int(input())\n",
        "c = int(input())\n",
        "\n",
        "# создадим функцию, проверяющую, соответствуют ли стороны треугольника\n",
        "# правилу, что две любые стороны треугольника должны быть меньше\n",
        "# третьей\n",
        "def triangle(a, b, c):\n",
        "    if ((a + b) > c) and ((a + c) > b) and ((b + c) > a):\n",
        "        return 'YES'\n",
        "    return 'NO'\n",
        "\n",
        "# получим результат проверки и выведем его\n",
        "result = triangle(a, b, c)\n",
        "print(result)"
      ],
      "metadata": {
        "id": "dZpCaPKAOYUX"
      },
      "execution_count": null,
      "outputs": []
    },
    {
      "cell_type": "markdown",
      "source": [
        "## **Задача С. Телефонные номера**\n",
        "\n",
        "\n",
        "---\n"
      ],
      "metadata": {
        "id": "nEEtwGO7fVVw"
      }
    },
    {
      "cell_type": "markdown",
      "source": [
        "Телефонные номера в адресной книге мобильного телефона имеют один из следующих форматов: **+7<код><номер>**, **8<код><номер>**, **<номер>**, где **<номер>** — это семь цифр, а **<код>** — это три цифры или три цифры в круглых скобках.\n",
        "\n",
        "Если код не указан, то считается, что он равен 495.\n",
        "\n",
        "Кроме того, в записи телефонного номера может стоять знак “**-**” между любыми двумя цифрами (см. пример). На данный момент в адресной книге телефона Васи записано всего три телефонных номера, и он хочет записать туда еще один. Но он не может понять, не записан ли уже такой номер в телефонной книге. Помогите ему! Два телефонных номера совпадают, если у них равны коды и равны номера. Например, +7(916)0123456 и 89160123456 — это один и тот же номер."
      ],
      "metadata": {
        "id": "UM3Q5O13fiCN"
      }
    },
    {
      "cell_type": "markdown",
      "source": [
        "**Формат ввода**\n",
        "\n",
        "В первой строке входных данных записан номер телефона, который Вася хочет добавить в адресную книгу своего телефона. В следующих трех строках записаны три номера телефонов, которые уже находятся в адресной книге телефона Васи. Гарантируется, что каждая из записей соответствует одному из трех приведенных в условии форматов.\n",
        "\n",
        "**Формат вывода**\n",
        "\n",
        "Для каждого телефонного номера в адресной книге выведите YES (заглавными буквами), если он совпадает с тем телефонным номером, который Вася хочет добавить в адресную книгу или NO (заглавными буквами) в противном случае."
      ],
      "metadata": {
        "id": "ZPB9ZuP4fiDm"
      }
    },
    {
      "cell_type": "code",
      "source": [
        "# получим номера телефонов\n",
        "number_to_add = input()\n",
        "number_one = input()\n",
        "number_two = input()\n",
        "number_three = input()\n",
        "\n",
        "# создадим функцию для извлечения из проверяемого номера только чисел\n",
        "def only_numbers(number):\n",
        "    new_number = ''\n",
        "    for i in number:\n",
        "        if (i.isdigit() == True):\n",
        "            new_number += i\n",
        "    return new_number\n",
        "\n",
        "# создадим функцию для приведения телефонных номеров к единому стилю\n",
        "def number_uniform_style(number):\n",
        "    new_number = only_numbers(number)\n",
        "    if len(new_number) > 10:\n",
        "        new_number = new_number[-10:]\n",
        "    elif len(new_number) == 7 \\\n",
        "        and (new_number[:1] != '+7') \\\n",
        "        and (new_number[0] != '7') \\\n",
        "        and (new_number[0] != '8'):\n",
        "        new_number = '495' + new_number\n",
        "    elif '495' in new_number \\\n",
        "        and (new_number[0] == '7') \\\n",
        "        and (new_number[0] == '8'):\n",
        "        new_number = new_number[1:]\n",
        "    return new_number\n",
        "\n",
        "# создадим функцию для проверки, есть ли входящий номер в списке\n",
        "def duplicate_numbers(number_to_add, number_existing):\n",
        "    number_to_add = int(number_uniform_style(number_to_add))\n",
        "    number_existing = int(number_uniform_style(number_existing))\n",
        "    if number_to_add == number_existing:\n",
        "        return 'YES'\n",
        "    else:\n",
        "        return 'NO'\n",
        "\n",
        "# выведем результаты проверки наличия номера\n",
        "# в телефонной книжке\n",
        "print(duplicate_numbers(number_to_add, number_one))\n",
        "print(duplicate_numbers(number_to_add, number_two))\n",
        "print(duplicate_numbers(number_to_add, number_three))"
      ],
      "metadata": {
        "id": "4WL5kt3vOYXg"
      },
      "execution_count": null,
      "outputs": []
    },
    {
      "cell_type": "markdown",
      "source": [
        "## **Задача D. Уравнение с корнем**\n",
        "\n",
        "\n",
        "---\n"
      ],
      "metadata": {
        "id": "pr_LasBJlkpG"
      }
    },
    {
      "cell_type": "markdown",
      "source": [
        "Решите в целых числах уравнение:"
      ],
      "metadata": {
        "id": "CsR0R7BclpHt"
      }
    },
    {
      "cell_type": "markdown",
      "source": [
        "![Снимок.JPG](data:image/jpeg;base64,/9j/4AAQSkZJRgABAQEAYABgAAD/4RDsRXhpZgAATU0AKgAAAAgABAE7AAIAAAALAAAISodpAAQAAAABAAAIVpydAAEAAAAWAAAQzuocAAcAAAgMAAAAPgAAAAAc6gAAAAgAAAAAAAAAAAAAAAAAAAAAAAAAAAAAAAAAAAAAAAAAAAAAAAAAAAAAAAAAAAAAAAAAAAAAAAAAAAAAAAAAAAAAAAAAAAAAAAAAAAAAAAAAAAAAAAAAAAAAAAAAAAAAAAAAAAAAAAAAAAAAAAAAAAAAAAAAAAAAAAAAAAAAAAAAAAAAAAAAAAAAAAAAAAAAAAAAAAAAAAAAAAAAAAAAAAAAAAAAAAAAAAAAAAAAAAAAAAAAAAAAAAAAAAAAAAAAAAAAAAAAAAAAAAAAAAAAAAAAAAAAAAAAAAAAAAAAAAAAAAAAAAAAAAAAAAAAAAAAAAAAAAAAAAAAAAAAAAAAAAAAAAAAAAAAAAAAAAAAAAAAAAAAAAAAAAAAAAAAAAAAAAAAAAAAAAAAAAAAAAAAAAAAAAAAAAAAAAAAAAAAAAAAAAAAAAAAAAAAAAAAAAAAAAAAAAAAAAAAAAAAAAAAAAAAAAAAAAAAAAAAAAAAAAAAAAAAAAAAAAAAAAAAAAAAAAAAAAAAAAAAAAAAAAAAAAAAAAAAAAAAAAAAAAAAAAAAAAAAAAAAAAAAAAAAAAAAAAAAAAAAAAAAAAAAAAAAAAAAAAAAAAAAAAAAAAAAAAAAAAAAAAAAAAAAAAAAAAAAAAAAAAAAAAAAAAAAAAAAAAAAAAAAAAAAAAAAAAAAAAAAAAAAAAAAAAAAAAAAAAAAAAAAAAAAAAAAAAAAAAAAAAAAAAAAAAAAAAAAAAAAAAAAAAAAAAAAAAAAAAAAAAAAAAAAAAAAAAAAAAAAAAAAAAAAAAAAAAAAAAAAAAAAAAAAAAAAAAAAAAAAAAAAAAAAAAAAAAAAAAAAAAAAAAAAAAAAAAAAAAAAAAAAAAAAAAAAAAAAAAAAAAAAAAAAAAAAAAAAAAAAAAAAAAAAAAAAAAAAAAAAAAAAAAAAAAAAAAAAAAAAAAAAAAAAAAAAAAAAAAAAAAAAAAAAAAAAAAAAAAAAAAAAAAAAAAAAAAAAAAAAAAAAAAAAAAAAAAAAAAAAAAAAAAAAAAAAAAAAAAAAAAAAAAAAAAAAAAAAAAAAAAAAAAAAAAAAAAAAAAAAAAAAAAAAAAAAAAAAAAAAAAAAAAAAAAAAAAAAAAAAAAAAAAAAAAAAAAAAAAAAAAAAAAAAAAAAAAAAAAAAAAAAAAAAAAAAAAAAAAAAAAAAAAAAAAAAAAAAAAAAAAAAAAAAAAAAAAAAAAAAAAAAAAAAAAAAAAAAAAAAAAAAAAAAAAAAAAAAAAAAAAAAAAAAAAAAAAAAAAAAAAAAAAAAAAAAAAAAAAAAAAAAAAAAAAAAAAAAAAAAAAAAAAAAAAAAAAAAAAAAAAAAAAAAAAAAAAAAAAAAAAAAAAAAAAAAAAAAAAAAAAAAAAAAAAAAAAAAAAAAAAAAAAAAAAAAAAAAAAAAAAAAAAAAAAAAAAAAAAAAAAAAAAAAAAAAAAAAAAAAAAAAAAAAAAAAAAAAAAAAAAAAAAAAAAAAAAAAAAAAAAAAAAAAAAAAAAAAAAAAAAAAAAAAAAAAAAAAAAAAAAAAAAAAAAAAAAAAAAAAAAAAAAAAAAAAAAAAAAAAAAAAAAAAAAAAAAAAAAAAAAAAAAAAAAAAAAAAAAAAAAAAAAAAAAAAAAAAAAAAAAAAAAAAAAAAAAAAAAAAAAAAAAAAAAAAAAAAAAAAAAAAAAAAAAAAAAAAAAAAAAAAAAAAAAAAAAAAAAAAAAAAAAAAAAAAAAAAAAAAAAAAAAAAAAAAAAAAAAAAAAAAAAAAAAAAAAAAAAAAAAAAAAAAAAAAAAAAAAAAAAAAAAAAAAAAAAAAAAAAAAAAAAAAAAAAAAAAAAAAAAAAAAAAAAAAAAAAAAAAAAAAAAAAAAAAAAAAAAAAAAAAAAAAAAAAAAAAAAAAAAAAAAAAAAAAAAAAAAAAAAAAAAAAAAAAAAAAAAAAAAAAAAAAAAAAAAAAAAAAAAAAAAAAAAAAAAAAAAAAAAAAAAAAAAAAAAAAAAAAAAAAAAAAAAAAAAAAAAAAAAAAAAAAAAAAAAAAAAAAAAAAAAAAAAAAAAAAAAAAAAAAAAAAAAAAAAAAAAAAAAAAAAAAAAAAAAAAAAAAAAAAAAAAAAAAAAAAAAAAAAAAAAAAAAAAAAAAAAAAAAAAAAAAAAAAAAAAAAAAAAAAAAAAAAAAAAAAAAAAAAAAAAAAAAAAAAAAAAAAAAAAAAAAAAAAAAAAAAAAAAAAAAAAAAAAAAAAAAAAAAAAAAAAAAAAAAAAAAAAAAAAAAAAAAAAAAAAAAAAAAAAAAAAAAAAAAAAAAAAAAAAAAAAAAAAAAAAAAAAAAAAAAAAAAAAAAAAAAAAAAAAAAAAAAAAAAAAAAAAAAAAAAAAAAAAAAAAAAAAAAAAAAAAAAAAAAAAAAAAAAAAAAAAAAAAAAAAAAAAAAAAAAAAAAAAAAAAAAAAAAAAAAAAAAAAAAAAAAAAAAAAAAAAAAAAAAAAAAAAAAAAAAAAAAAAAAAAAAAAAAAAAAAAAAAAAAAAAAAAAAAAAAAAAAAAAAAAAAAAAAAAAAAAAAAAAAAAAAAAAAAAAAAAAAAAAAAAAAAAAAAAAAAAAAAAAAAAAAAAAAAAAAAAAAAAAAAAAAAAAAAAAAAAAAAAAAAAAAAAAAAAAAAAAAAAAAAAAAAAAAAAAAAAAAAAAAAAAAAAAAAAAAAAAAAAAAAAAAAAAAAAAAAAAAAAAAAAAAAAAAAAAAAAAAAAAAAAAEVnb3IgVW1hZXYAAAAFkAMAAgAAABQAABCkkAQAAgAAABQAABC4kpEAAgAAAAM0MgAAkpIAAgAAAAM0MgAA6hwABwAACAwAAAiYAAAAABzqAAAACAAAAAAAAAAAAAAAAAAAAAAAAAAAAAAAAAAAAAAAAAAAAAAAAAAAAAAAAAAAAAAAAAAAAAAAAAAAAAAAAAAAAAAAAAAAAAAAAAAAAAAAAAAAAAAAAAAAAAAAAAAAAAAAAAAAAAAAAAAAAAAAAAAAAAAAAAAAAAAAAAAAAAAAAAAAAAAAAAAAAAAAAAAAAAAAAAAAAAAAAAAAAAAAAAAAAAAAAAAAAAAAAAAAAAAAAAAAAAAAAAAAAAAAAAAAAAAAAAAAAAAAAAAAAAAAAAAAAAAAAAAAAAAAAAAAAAAAAAAAAAAAAAAAAAAAAAAAAAAAAAAAAAAAAAAAAAAAAAAAAAAAAAAAAAAAAAAAAAAAAAAAAAAAAAAAAAAAAAAAAAAAAAAAAAAAAAAAAAAAAAAAAAAAAAAAAAAAAAAAAAAAAAAAAAAAAAAAAAAAAAAAAAAAAAAAAAAAAAAAAAAAAAAAAAAAAAAAAAAAAAAAAAAAAAAAAAAAAAAAAAAAAAAAAAAAAAAAAAAAAAAAAAAAAAAAAAAAAAAAAAAAAAAAAAAAAAAAAAAAAAAAAAAAAAAAAAAAAAAAAAAAAAAAAAAAAAAAAAAAAAAAAAAAAAAAAAAAAAAAAAAAAAAAAAAAAAAAAAAAAAAAAAAAAAAAAAAAAAAAAAAAAAAAAAAAAAAAAAAAAAAAAAAAAAAAAAAAAAAAAAAAAAAAAAAAAAAAAAAAAAAAAAAAAAAAAAAAAAAAAAAAAAAAAAAAAAAAAAAAAAAAAAAAAAAAAAAAAAAAAAAAAAAAAAAAAAAAAAAAAAAAAAAAAAAAAAAAAAAAAAAAAAAAAAAAAAAAAAAAAAAAAAAAAAAAAAAAAAAAAAAAAAAAAAAAAAAAAAAAAAAAAAAAAAAAAAAAAAAAAAAAAAAAAAAAAAAAAAAAAAAAAAAAAAAAAAAAAAAAAAAAAAAAAAAAAAAAAAAAAAAAAAAAAAAAAAAAAAAAAAAAAAAAAAAAAAAAAAAAAAAAAAAAAAAAAAAAAAAAAAAAAAAAAAAAAAAAAAAAAAAAAAAAAAAAAAAAAAAAAAAAAAAAAAAAAAAAAAAAAAAAAAAAAAAAAAAAAAAAAAAAAAAAAAAAAAAAAAAAAAAAAAAAAAAAAAAAAAAAAAAAAAAAAAAAAAAAAAAAAAAAAAAAAAAAAAAAAAAAAAAAAAAAAAAAAAAAAAAAAAAAAAAAAAAAAAAAAAAAAAAAAAAAAAAAAAAAAAAAAAAAAAAAAAAAAAAAAAAAAAAAAAAAAAAAAAAAAAAAAAAAAAAAAAAAAAAAAAAAAAAAAAAAAAAAAAAAAAAAAAAAAAAAAAAAAAAAAAAAAAAAAAAAAAAAAAAAAAAAAAAAAAAAAAAAAAAAAAAAAAAAAAAAAAAAAAAAAAAAAAAAAAAAAAAAAAAAAAAAAAAAAAAAAAAAAAAAAAAAAAAAAAAAAAAAAAAAAAAAAAAAAAAAAAAAAAAAAAAAAAAAAAAAAAAAAAAAAAAAAAAAAAAAAAAAAAAAAAAAAAAAAAAAAAAAAAAAAAAAAAAAAAAAAAAAAAAAAAAAAAAAAAAAAAAAAAAAAAAAAAAAAAAAAAAAAAAAAAAAAAAAAAAAAAAAAAAAAAAAAAAAAAAAAAAAAAAAAAAAAAAAAAAAAAAAAAAAAAAAAAAAAAAAAAAAAAAAAAAAAAAAAAAAAAAAAAAAAAAAAAAAAAAAAAAAAAAAAAAAAAAAAAAAAAAAAAAAAAAAAAAAAAAAAAAAAAAAAAAAAAAAAAAAAAAAAAAAAAAAAAAAAAAAAAAAAAAAAAAAAAAAAAAAAAAAAAAAAAAAAAAAAAAAAAAAAAAAAAAAAAAAAAAAAAAAAAAAAAAAAAAAAAAAAAAAAAAAAAAAAAAAAAAAAAAAAAAAAAAAAAAAAAAAAAAAAAAAAAAAAAAAAAAAAAAAAAAAAAAAAAAAAAAAAAAAAAAAAAAAAAAAAAAAAAAAAAAAAAAAAAAAAAAAAAAAAAAAAAAAAAAAAAAAAAAAAAAAAAAAAAAAAAAAAAAAAAAAAAAAAAAAAAAAAAAAAAAAAAAAAAAAAAAAAAAAAAAAAAAAAAAAAAAAAAAAAAAAAAAAAAAAAAAAAAAAAAAAAAAAAAAAAAAAAAAAAAAAAAAAAAAAAAAAAAAAAAAAAAAAAAAAAAAAAAAAAAAAAAAAAAAAAAAAAAAAAAAAAAAAAAAAAAAAAAAAAAAAAAAAAAAAAAAAAAAAAAAAAAAAAAAAAAAAAAAAAAAAAAAAAAAAAAAAAAAAAAAAAAAAAAAAAAAAAAAAAAAAAAAAAAAAAAAAAAAAAAAAAAAAAAAAAAAAAAAAAAAAAAAAAAAAAAAAAAAAAAAAAAAAAAAAAAAAAAAAAAAAAAAAAAAAAAAAAAAAAAAAAAAAAAAAAAAAAAAAAAAAAAAAAAAAAAAAAAAAAAAAAAAAAAAAAAAAAAAAAAAAAAAAAAAAAAAAAAAAAAAAAAAAAAAAAAAAAAAAAAAAAAAAAAAAAAAAAAAAAAAAAAAAAAAAAAAAAAAAAAAAAAAAAAAAAAAAAAAAAAAAAAAAAAAAAAAAAAAAAAAAAAAAAAAAAAAAAAAAAAAAAAAAAAAAAAAAAAAAAAAAAAAAAAAAAAAAAAAAAAAAAAAAAAAAAAAAAAAAAAAAAAAAAAAAAAAAAAAAAAAAAAAAAAAAAAAAAAAAAAAAAAAAAAAAAAAAAAAAAAAAAAAAAAAAAAAAAAAAAAAAAAAAMjAyMzoxMTowMyAxMToxMTozOQAyMDIzOjExOjAzIDExOjExOjM5AAAARQBnAG8AcgAgAFUAbQBhAGUAdgAAAP/hCx1odHRwOi8vbnMuYWRvYmUuY29tL3hhcC8xLjAvADw/eHBhY2tldCBiZWdpbj0n77u/JyBpZD0nVzVNME1wQ2VoaUh6cmVTek5UY3prYzlkJz8+DQo8eDp4bXBtZXRhIHhtbG5zOng9ImFkb2JlOm5zOm1ldGEvIj48cmRmOlJERiB4bWxuczpyZGY9Imh0dHA6Ly93d3cudzMub3JnLzE5OTkvMDIvMjItcmRmLXN5bnRheC1ucyMiPjxyZGY6RGVzY3JpcHRpb24gcmRmOmFib3V0PSJ1dWlkOmZhZjViZGQ1LWJhM2QtMTFkYS1hZDMxLWQzM2Q3NTE4MmYxYiIgeG1sbnM6ZGM9Imh0dHA6Ly9wdXJsLm9yZy9kYy9lbGVtZW50cy8xLjEvIi8+PHJkZjpEZXNjcmlwdGlvbiByZGY6YWJvdXQ9InV1aWQ6ZmFmNWJkZDUtYmEzZC0xMWRhLWFkMzEtZDMzZDc1MTgyZjFiIiB4bWxuczp4bXA9Imh0dHA6Ly9ucy5hZG9iZS5jb20veGFwLzEuMC8iPjx4bXA6Q3JlYXRlRGF0ZT4yMDIzLTExLTAzVDExOjExOjM5LjQxNjwveG1wOkNyZWF0ZURhdGU+PC9yZGY6RGVzY3JpcHRpb24+PHJkZjpEZXNjcmlwdGlvbiByZGY6YWJvdXQ9InV1aWQ6ZmFmNWJkZDUtYmEzZC0xMWRhLWFkMzEtZDMzZDc1MTgyZjFiIiB4bWxuczpkYz0iaHR0cDovL3B1cmwub3JnL2RjL2VsZW1lbnRzLzEuMS8iPjxkYzpjcmVhdG9yPjxyZGY6U2VxIHhtbG5zOnJkZj0iaHR0cDovL3d3dy53My5vcmcvMTk5OS8wMi8yMi1yZGYtc3ludGF4LW5zIyI+PHJkZjpsaT5FZ29yIFVtYWV2PC9yZGY6bGk+PC9yZGY6U2VxPg0KCQkJPC9kYzpjcmVhdG9yPjwvcmRmOkRlc2NyaXB0aW9uPjwvcmRmOlJERj48L3g6eG1wbWV0YT4NCiAgICAgICAgICAgICAgICAgICAgICAgICAgICAgICAgICAgICAgICAgICAgICAgICAgICAgICAgICAgICAgICAgICAgICAgICAgICAgICAgICAgICAgICAgICAgICAgICAgICAKICAgICAgICAgICAgICAgICAgICAgICAgICAgICAgICAgICAgICAgICAgICAgICAgICAgICAgICAgICAgICAgICAgICAgICAgICAgICAgICAgICAgICAgICAgICAgICAgICAgIAogICAgICAgICAgICAgICAgICAgICAgICAgICAgICAgICAgICAgICAgICAgICAgICAgICAgICAgICAgICAgICAgICAgICAgICAgICAgICAgICAgICAgICAgICAgICAgICAgICAgCiAgICAgICAgICAgICAgICAgICAgICAgICAgICAgICAgICAgICAgICAgICAgICAgICAgICAgICAgICAgICAgICAgICAgICAgICAgICAgICAgICAgICAgICAgICAgICAgICAgICAKICAgICAgICAgICAgICAgICAgICAgICAgICAgICAgICAgICAgICAgICAgICAgICAgICAgICAgICAgICAgICAgICAgICAgICAgICAgICAgICAgICAgICAgICAgICAgICAgICAgIAogICAgICAgICAgICAgICAgICAgICAgICAgICAgICAgICAgICAgICAgICAgICAgICAgICAgICAgICAgICAgICAgICAgICAgICAgICAgICAgICAgICAgICAgICAgICAgICAgICAgCiAgICAgICAgICAgICAgICAgICAgICAgICAgICAgICAgICAgICAgICAgICAgICAgICAgICAgICAgICAgICAgICAgICAgICAgICAgICAgICAgICAgICAgICAgICAgICAgICAgICAKICAgICAgICAgICAgICAgICAgICAgICAgICAgICAgICAgICAgICAgICAgICAgICAgICAgICAgICAgICAgICAgICAgICAgICAgICAgICAgICAgICAgICAgICAgICAgICAgICAgIAogICAgICAgICAgICAgICAgICAgICAgICAgICAgICAgICAgICAgICAgICAgICAgICAgICAgICAgICAgICAgICAgICAgICAgICAgICAgICAgICAgICAgICAgICAgICAgICAgICAgCiAgICAgICAgICAgICAgICAgICAgICAgICAgICAgICAgICAgICAgICAgICAgICAgICAgICAgICAgICAgICAgICAgICAgICAgICAgICAgICAgICAgICAgICAgICAgICAgICAgICAKICAgICAgICAgICAgICAgICAgICAgICAgICAgICAgICAgICAgICAgICAgICAgICAgICAgICAgICAgICAgICAgICAgICAgICAgICAgICAgICAgICAgICAgICAgICAgICAgICAgIAogICAgICAgICAgICAgICAgICAgICAgICAgICAgICAgICAgICAgICAgICAgICAgICAgICAgICAgICAgICAgICAgICAgICAgICAgICAgICAgICAgICAgICAgICAgICAgICAgICAgCiAgICAgICAgICAgICAgICAgICAgICAgICAgICAgICAgICAgICAgICAgICAgICAgICAgICAgICAgICAgICAgICAgICAgICAgICAgICAgICAgICAgICAgICAgICAgICAgICAgICAKICAgICAgICAgICAgICAgICAgICAgICAgICAgICAgICAgICAgICAgICAgICAgICAgICAgICAgICAgICAgICAgICAgICAgICAgICAgICAgICAgICAgICAgICAgICAgICAgICAgIAogICAgICAgICAgICAgICAgICAgICAgICAgICAgICAgICAgICAgICAgICAgICAgICAgICAgICAgICAgICAgICAgICAgICAgICAgICAgICAgICAgICAgICAgICAgICAgICAgICAgCiAgICAgICAgICAgICAgICAgICAgICAgICAgICAgICAgICAgICAgICAgICAgICAgICAgICAgICAgICAgICAgICAgICAgICAgICAgICAgICAgICAgICAgICAgICAgICAgICAgICAKICAgICAgICAgICAgICAgICAgICAgICAgICAgICAgICAgICAgICAgICAgICAgICAgICAgICAgICAgICAgICAgICAgICAgICAgICAgICAgICAgICAgICAgICAgICAgICAgICAgIAogICAgICAgICAgICAgICAgICAgICAgICAgICAgICAgICAgICAgICAgICAgICAgICAgICAgICAgICAgICAgICAgICAgICAgICAgICAgICAgICAgICAgICAgICAgICAgICAgICAgCiAgICAgICAgICAgICAgICAgICAgICAgICAgICAgICAgICAgICAgICAgICAgICAgICAgICAgICAgICAgICAgICAgICAgICAgICAgICAgICAgICAgICAgICAgICAgICAgICAgICAKICAgICAgICAgICAgICAgICAgICAgICAgICAgICAgICAgICAgICAgICAgICAgICAgICAgICAgICAgICAgICAgICAgICAgICAgICAgICAgICAgICAgICAgICAgICAgICAgICAgIAogICAgICAgICAgICAgICAgICAgICAgICAgICAgPD94cGFja2V0IGVuZD0ndyc/Pv/bAEMABwUFBgUEBwYFBggHBwgKEQsKCQkKFQ8QDBEYFRoZGBUYFxseJyEbHSUdFxgiLiIlKCkrLCsaIC8zLyoyJyorKv/bAEMBBwgICgkKFAsLFCocGBwqKioqKioqKioqKioqKioqKioqKioqKioqKioqKioqKioqKioqKioqKioqKioqKioqKv/AABEIACoAlgMBIgACEQEDEQH/xAAfAAABBQEBAQEBAQAAAAAAAAAAAQIDBAUGBwgJCgv/xAC1EAACAQMDAgQDBQUEBAAAAX0BAgMABBEFEiExQQYTUWEHInEUMoGRoQgjQrHBFVLR8CQzYnKCCQoWFxgZGiUmJygpKjQ1Njc4OTpDREVGR0hJSlNUVVZXWFlaY2RlZmdoaWpzdHV2d3h5eoOEhYaHiImKkpOUlZaXmJmaoqOkpaanqKmqsrO0tba3uLm6wsPExcbHyMnK0tPU1dbX2Nna4eLj5OXm5+jp6vHy8/T19vf4+fr/xAAfAQADAQEBAQEBAQEBAAAAAAAAAQIDBAUGBwgJCgv/xAC1EQACAQIEBAMEBwUEBAABAncAAQIDEQQFITEGEkFRB2FxEyIygQgUQpGhscEJIzNS8BVictEKFiQ04SXxFxgZGiYnKCkqNTY3ODk6Q0RFRkdISUpTVFVWV1hZWmNkZWZnaGlqc3R1dnd4eXqCg4SFhoeIiYqSk5SVlpeYmZqio6Slpqeoqaqys7S1tre4ubrCw8TFxsfIycrS09TV1tfY2dri4+Tl5ufo6ery8/T19vf4+fr/2gAMAwEAAhEDEQA/APpGiiigAoopk0qQQvNMwSONSzMegA6mgCpe61pumyiO+vYYHYZCu2Diq3/CV6F/0Fbb/v5Wf4asY9Ujutb1O2SSTUJN0STIG8uJchFweh5P6Vuf2Tpv/QPtf+/K/wCFAFP/AISvQv8AoK23/fyj/hK9C/6Ctt/38q5/ZOm/9A+1/wC/K/4Uf2Tpv/QPtf8Avyv+FAFP/hK9C/6Ctt/38o/4SvQv+grbf9/Kuf2Tpv8A0D7X/vyv+FQG00YXwszaWf2lozKIvJXJQEAt06ZIFAEX/CV6F/0Fbb/v5R/wlehf9BW2/wC/lXP7J03/AKB9r/35X/CsXxbc2Hhfwve6yNFtLtbOIyvEQkeVAycHaeaANGLxNos8yxRalbu7nCqH5JrUrK0m3s7zTbW+bSre1lljWTy/LUmMnnGcCtWgAooooAKKKKACiiigAooooA5xvGEUXjmHw5c2c0BuYDLb3L4CSlThlHfI4/Ok8WO9+1p4ft2w2oP/AKQR/DAOXz7MAV+prK+KumXD+HrfXtLXOo6HMLuHHVlH31/EAVd8GXP/AAkbT+KmjZI75QlmjjlIR3/4ERu/GgC14u8RxeD/AA5HNHF5k0ssdpaQ/wB+RuAPoACfwrIv9T8Rad4q8NaWdQinbUWd7yLyFGxEALbSB05xn2rU8aeG5vEEOmS2mxp9Nvku0jkbCyYVlIJ7fezn2rLvvDfiG+8aR64ZLaEfYzaxorkm2ySS4OPnJz7dKAJvG+u6z4f0C61i2lSHybiOGC1ZFbz90ioMnqM54x61qaIPEZ1SWTVpreTT3gjaEKuHWQ53DjsOK5zW/C/ivXraGHUbiylS01Vb2JVJUTRpIGVD124ABzzyK7TTor3fNPqBVGkwEgjbcsYGe+BknP6CgBmr67aaJHG96l04kJC/ZrWSc/iEU4/GuJfxvpJ+JUFz5OqeWNIkjx/Zdxuz5yH7uzOOOvSvR6wHtJz8SILwRN9nGkyRGTsHMyED8gaALmj+ILPXPN+xJdp5WN32mzlg6+m9Rnp2rlfiz5t9oWn+H7Xb52sX0Vv8/TZuG/Ptg13tc94j0O41DVtG1SzWOWbS5ncQyPtVw67Tzg4I69KAKFjrt7ZfENPDF3ci8jk083KuIwhiKsq4OOxDV1dz5/2aT7GIzPj5PNJC598c1z+g+GprbxHqHiPVijaleqIVSM5WCIHhAe/QZPHSugubaK8tZLe5TfFINrLkjI/CgDC3eM/+eWg/9/Jv/ians28VG7j+3x6OLfPzmF5S+PbIxVf/AIQDwz/0DB/3/k/+Kqez8GaBp95HdWlh5c0Zyjec5x+BbFAG1LIsMLyyHCIpZj6AVwmmeIvEHi/Qb/XPDZSG3BkTToXRSbkoSAzFvugkce1dveWy3ljNbOcLNGUJHbIxXLeFtE1rwz4XttBtobTZaqYorsyk5XPDFMdcds0AdPZNcGwhbUAiXJQeaEPyhu+KKlhRo4UR5C7AYLnvRUS576f1+Ix9FFFWIR0WRCjqGVhggjINNhhitoEht40iijUKkaKFVQOgAHQU+igAooooAKKKKACiiigAooooAKKKKACiiigAooooAKKKKAP/2Q==)"
      ],
      "metadata": {
        "id": "D1oXcdujl9u9"
      }
    },
    {
      "cell_type": "markdown",
      "source": [
        "**a**, **b**, **c** – данные целые числа: найдите все решения или сообщите, что решений в целых числах нет."
      ],
      "metadata": {
        "id": "obRsR--5mJEy"
      }
    },
    {
      "cell_type": "markdown",
      "source": [
        "**Формат ввода**\n",
        "\n",
        "Вводятся три числа a, b и c по одному в строке.\n",
        "\n",
        "**Формат вывода**\n",
        "\n",
        "Программа должна вывести все решения уравнения в порядке возрастания, либо NO SOLUTION (заглавными буквами), если решений нет. Если решений бесконечно много, вывести MANY SOLUTIONS."
      ],
      "metadata": {
        "id": "n8uyEwXZmNdB"
      }
    },
    {
      "cell_type": "code",
      "source": [
        "# получим значения трех коэффициентов\n",
        "a, b, c = [int(input()) for _ in range(3)]\n",
        "\n",
        "# сформируем функцию для получения корней уравнения\n",
        "def equation_solutions(a, b, c):\n",
        "    if (c < 0) or (a == 0 and b != c ** 2) \\\n",
        "        or (a == b == 0 and c != 0) \\\n",
        "        or (a == c == 0 and b != 0):\n",
        "        return 'NO SOLUTION'\n",
        "    elif (a == b == c == 0) or (a == 0 and b == c ** 2):\n",
        "        return 'MANY SOLUTIONS'\n",
        "    elif c == 0 and b == 0:\n",
        "        return str(0)\n",
        "    elif (a != 0):\n",
        "        x = (c ** 2 - b) / a\n",
        "        if (c ** 2 - b) % a == 0:\n",
        "            return str(int(x))\n",
        "    return 'NO SOLUTION'\n",
        "\n",
        "# выведем результат решения уравнения\n",
        "result = equation_solutions(a, b, c)\n",
        "print(result)"
      ],
      "metadata": {
        "id": "mWCBekel7nl0"
      },
      "execution_count": null,
      "outputs": []
    },
    {
      "cell_type": "markdown",
      "source": [
        "## **Задача F. Расстановка ноутбуков**\n",
        "\n",
        "---\n"
      ],
      "metadata": {
        "id": "GlYhmL-K4yYk"
      }
    },
    {
      "cell_type": "markdown",
      "source": [
        "В школе решили на один прямоугольный стол поставить два прямоугольных ноутбука. Ноутбуки нужно поставить так, чтобы их стороны были параллельны сторонам стола. Определите, какие размеры должен иметь стол, чтобы оба ноутбука на него поместились, и площадь стола была минимальна."
      ],
      "metadata": {
        "id": "tkVuY3hG48Iv"
      }
    },
    {
      "cell_type": "markdown",
      "source": [
        "**Формат ввода**\n",
        "\n",
        "Вводится четыре натуральных числа, первые два задают размеры одного ноутбука, а следующие два — размеры второго. Числа не превышают 1000.\n",
        "\n",
        "**Формат вывода**\n",
        "\n",
        "Выведите два числа — размеры стола. Если возможно несколько ответов, выведите любой из них (но только один)."
      ],
      "metadata": {
        "id": "Me35_2MQ5F8i"
      }
    },
    {
      "cell_type": "code",
      "source": [
        "# считываем исходные данные для работы функции\n",
        "a1, a2, b1, b2 = map(int, input().split())\n",
        "\n",
        "# сформируем функцию для сортировки двух значений по убыванию\n",
        "def sort_lenght(m, n):\n",
        "    if m < n:\n",
        "        (m, n) = (n, m)\n",
        "        return m, n\n",
        "    return m, n\n",
        "\n",
        "# сформируем функцию для сортировки пар значений\n",
        "# по первому значению каждой пары по убыванию\n",
        "def sort_paired_values(a1, a2, b1, b2):\n",
        "    if a1 >= b1:\n",
        "        return a1, a2, b1, b2\n",
        "    return b1, b2, a1, a2\n",
        "\n",
        "# сформируем функцию, возвращающую\n",
        "# минимально возможный размер поверхности стола\n",
        "def min_table_surface_area(a1, a2, b1, b2):\n",
        "    # сортируем входящие значения\n",
        "    a1, a2 = sort_lenght(a1, a2)\n",
        "    b1, b2 = sort_lenght(b1, b2)\n",
        "\n",
        "    # отсортированные пары входящих значений\n",
        "    # упорядочим так, чтобы a1 был всегда больше или равен b1\n",
        "    a1, a2, b1, b2 = sort_paired_values(a1, a2, b1, b2)\n",
        "\n",
        "    # рассчитаем три варианта возможной площади\n",
        "    side_11 = a1 + b1\n",
        "    side_12 = max(a2, b2)\n",
        "    square_1 = side_11 * side_12\n",
        "\n",
        "    side_21 = a1\n",
        "    side_22 = a2 + b2\n",
        "    square_2 = side_21 * side_22\n",
        "\n",
        "    side_31 = a1 + b2\n",
        "    side_32 = max(a2, b1)\n",
        "    square_3 = side_31 * side_32\n",
        "\n",
        "    # дополнительно к трем вариантам учтем ситуацию, когда\n",
        "    # стороны обоих ноутбуков полностью совпадут по размерам\n",
        "    if (a1 == b1) and (a2 == b2):\n",
        "        return a1 + b1, a2\n",
        "    elif square_1 == min(square_1, square_2, square_3):\n",
        "        return side_11, side_12\n",
        "    elif square_2 == min(square_1, square_2, square_3):\n",
        "        return side_21, side_22\n",
        "    return side_31, side_32\n",
        "\n",
        "# рассчитаем минимально возможный размер поверхности стола\n",
        "m, n = min_table_surface_area(a1, a2, b1, b2)\n",
        "print(m, n)"
      ],
      "metadata": {
        "id": "BmokK2VpSi8d"
      },
      "execution_count": null,
      "outputs": []
    },
    {
      "cell_type": "markdown",
      "source": [
        "## **Задача G. Детали**\n",
        "\n",
        "---\n"
      ],
      "metadata": {
        "id": "3VRW2JIVn8hz"
      }
    },
    {
      "cell_type": "markdown",
      "source": [
        "Имеется N кг металлического сплава. Из него изготавливают заготовки массой K кг каждая. После этого из каждой заготовки вытачиваются детали массой M кг каждая (из каждой заготовки вытачивают максимально возможное количество деталей). Если от заготовок после этого что-то остается, то этот материал возвращают к началу производственного цикла и сплавляют с тем, что осталось при изготовлении заготовок. Если того сплава, который получился, достаточно для изготовления хотя бы одной заготовки, то из него снова изготавливают заготовки, из них – детали и т.д. Напишите программу, которая вычислит, какое количество деталей может быть получено по этой технологии из имеющихся исходно N кг сплава."
      ],
      "metadata": {
        "id": "V3D216FioILs"
      }
    },
    {
      "cell_type": "markdown",
      "source": [
        "**Формат ввода**\n",
        "\n",
        "Вводятся N, K, M. Все числа натуральные и не превосходят 200.\n",
        "\n",
        "**Формат вывода**\n",
        "\n",
        "Выведите одно число — количество деталей, которое может получиться по такой технологии."
      ],
      "metadata": {
        "id": "aC0sdd_qoISz"
      }
    },
    {
      "cell_type": "code",
      "source": [
        "# считываем исходные данные\n",
        "N, K, M = map(int, input().split())\n",
        "\n",
        "# сформируем функцию, вычисляющую количество деталей\n",
        "# которые можно изготовить из заданного веса сплава\n",
        "def details_number(N, K, M):\n",
        "    # переменная, куда будет сохраняться число деталей,\n",
        "    # которое может быть изготовлено\n",
        "    details_num = 0\n",
        "    # если масса одной детали превышает массу одной заготовки,\n",
        "    # ни одна деталь не может быть изготовлена\n",
        "    if M > K:\n",
        "        return 0\n",
        "    else:\n",
        "        # условие для старта цикла while (минимальное количество сплава\n",
        "        # должно быть достаточно для изготовления хотя бы одной заготовки)\n",
        "        metal_residues = K + 1\n",
        "        while metal_residues >= K:\n",
        "            # вычисляем количество заготовок,\n",
        "            # которое может быть изготовлено из заданного веса сплава\n",
        "            q = N // K\n",
        "            # вычисляем остаток сплава от заготовок\n",
        "            rest_q = N % K\n",
        "            # вычисляем количество деталей, которое может быть изготовлено\n",
        "            # из всех заготовок\n",
        "            details_per_iteration = (K // M) * q\n",
        "            details_num += details_per_iteration\n",
        "            # вычисляем остаток сплава после изготовления\n",
        "            # деталей из заготовок\n",
        "            rest_metal = (K % M) * q\n",
        "            # вычисляем общий остаток сплава после итерации\n",
        "            metal_residues = rest_q + rest_metal\n",
        "            # обновляем остаток сплава для следующей итерации\n",
        "            N  = metal_residues\n",
        "        return details_num\n",
        "\n",
        "# вычислим количество деталей, которое может быть изготовлено\n",
        "# из заданного веса сплава\n",
        "result = details_number(N, K, M)\n",
        "print(result)"
      ],
      "metadata": {
        "id": "wYgQZVNauxI-"
      },
      "execution_count": null,
      "outputs": []
    },
    {
      "cell_type": "markdown",
      "source": [
        "## **Задача H. Метро**\n",
        "\n",
        "---\n"
      ],
      "metadata": {
        "id": "gHvduUzyuyLq"
      }
    },
    {
      "cell_type": "markdown",
      "source": [
        "\n",
        "\n",
        "На некоторых кросс-платформенных станциях метро (как, например, «Третьяковская») на разные стороны платформы приходят поезда разных направлений. Таня договорилась встретиться с подругой на такой станции, но поскольку подруга приехала из другого часового пояса, то из-за джетлага сильно проспала, и Тане пришлось долго её ждать. Поезда всегда ходят точно по расписанию, и Таня знает, что поезд стоит на платформе ровно одну минуту, а интервал между поездами (время, в течение которого поезда у платформы нет) составляет a минут для поездов на первом пути и b минут для поездов на втором пути. То есть на первый путь приезжает поезд и стоит одну минуту, затем в течение a минут поезда у платформы нет, затем в течение одной минуты у платформы стоит следующий поезд и т. д.\n",
        "\n",
        "Пока Таня стояла на платформе, она насчитала n поездов на первом пути и m поездов на втором пути. Определите минимальное и максимальное время, которое Таня могла провести на платформе, или сообщите, что она точно сбилась со счёта.\n",
        "\n",
        "Все поезда, которые видела Таня, она наблюдала в течение всей минуты, то есть Таня не приходит и не уходит с платформы посередине той минуты, когда поезд стоит на платформе.\n"
      ],
      "metadata": {
        "id": "C_CnBkKmu5zQ"
      }
    },
    {
      "cell_type": "markdown",
      "source": [
        "**Формат ввода**\n",
        "\n",
        "Первая строка входных данных содержит число a — интервал между поездами на первом пути. Вторая строка содержит число b — интервал между поездами на втором пути. Третья строка содержит число n — количество поездов на первом пути, которые увидела Таня. Четвёртая строка содержит число m — количество поездов на втором пути, которые увидела Таня. Все числа — целые, от 1 до 1000.\n",
        "\n",
        "**Формат вывода**\n",
        "\n",
        "Программа должна вывести два числа: минимальное и максимальное время в минутах, которое Таня могла стоять на платформе, или одно число -1, если Таня точно ошиблась."
      ],
      "metadata": {
        "id": "mxM2IzbVvBMc"
      }
    },
    {
      "cell_type": "code",
      "source": [
        "# получим исходные данные для расчета\n",
        "a, b, n, m = [int(input()) for i in range(4)]\n",
        "\n",
        "# сформируем функцию для вычисления\n",
        "# минимального и максимального времени пребывания\n",
        "# на перроне станции метро\n",
        "def waiting_time(a, b, n, m):\n",
        "    # вычисляем максимальное время наблюдения за поездами\n",
        "    railway_track_1_max = (n - 1) * (a + 1) + 1 + 2 * a\n",
        "    railway_track_2_max = (m - 1) * (b + 1) + 1 + 2 * b\n",
        "\n",
        "    # максимальное время выбираем по принципу,\n",
        "    # что оно удовлетворяет обоим путям станции метро\n",
        "    time_max = min(railway_track_1_max, railway_track_2_max)\n",
        "\n",
        "    # вычисляем минимальное время наблюдения за поездами\n",
        "    railway_track_1_min = (n - 1) * (a + 1) + 1\n",
        "    railway_track_2_min = (m - 1) * (b + 1) + 1\n",
        "\n",
        "    # минимальное время выбираем по принципу,\n",
        "    # что оно удовлетворяет обоим путям станции метро\n",
        "    time_min = max(railway_track_1_min, railway_track_2_min)\n",
        "\n",
        "    # Таня ошиблась в подсчете поездов, если\n",
        "    # максимальное выявленное время окажется меньше минимального\n",
        "    if time_max < time_min:\n",
        "        print(-1)\n",
        "    else:\n",
        "        print(time_min, time_max)\n",
        "\n",
        "# получим время ожидания поезда метро\n",
        "waiting_time(a, b, n, m)"
      ],
      "metadata": {
        "id": "L7DRaKv1uxL2"
      },
      "execution_count": null,
      "outputs": []
    },
    {
      "cell_type": "markdown",
      "source": [
        "## **Задача I. Узник замка Иф**\n",
        "\n",
        "---\n"
      ],
      "metadata": {
        "id": "fT3NlCvqnG97"
      }
    },
    {
      "cell_type": "markdown",
      "source": [
        "За многие годы заточения узник замка Иф проделал в стене прямоугольное отверстие размером **D × E**. Замок Иф сложен из кирпичей, размером **A × B × C**. Определите, сможет ли узник выбрасывать кирпичи в море через это отверстие, если стороны кирпича должны быть параллельны сторонам отверстия."
      ],
      "metadata": {
        "id": "zh01btp4nQla"
      }
    },
    {
      "cell_type": "markdown",
      "source": [
        "**Формат ввода**\n",
        "\n",
        "Программа получает на вход числа A, B, C, D, E.\n",
        "\n",
        "**Формат вывода**\n",
        "\n",
        "Программа должна вывести слово YES или NO."
      ],
      "metadata": {
        "id": "NBgxQkz-nf7M"
      }
    },
    {
      "cell_type": "code",
      "source": [
        "# получим значения длин сторон кирпичей и отверстия\n",
        "A, B, C, D, E = [int(input()) for _ in range(5)]\n",
        "\n",
        "# сформируем функцию, определяющую возможность\n",
        "# выбросить кирпич в отверстие\n",
        "def brick_out(A, B, C, D, E):\n",
        "    if (A <= D and B <= E) or (A <= E and B <= D):\n",
        "        return 'YES'\n",
        "    elif  (A <= D and C <= E) or (A <= E and C <= D):\n",
        "        return 'YES'\n",
        "    elif (B <= D and C <= E) or (B <= E and C <= D):\n",
        "        return 'YES'\n",
        "    return 'NO'\n",
        "\n",
        "# проверим, можно ли выбросить кирпич в отверстие\n",
        "result = brick_out(A, B, C, D, E)\n",
        "print(result)"
      ],
      "metadata": {
        "id": "XRu0CSN4OYkq"
      },
      "execution_count": null,
      "outputs": []
    }
  ]
}